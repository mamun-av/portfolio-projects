{
 "cells": [
  {
   "cell_type": "markdown",
   "metadata": {},
   "source": [
    "# Categorical feature encoding challenge II- Unsupervised\n",
    "\n",
    "In this task we will do unsupervised machine learning technique where we will find out labels from testing data by using unsupervised algorithm Kmeans, PCA, Agglomerative, Gausian mix. "
   ]
  },
  {
   "cell_type": "markdown",
   "metadata": {},
   "source": [
    "# Importing important libraries for this task"
   ]
  },
  {
   "cell_type": "code",
   "execution_count": 1,
   "metadata": {
    "ExecuteTime": {
     "end_time": "2021-08-21T08:01:44.339859Z",
     "start_time": "2021-08-21T08:01:39.035831Z"
    }
   },
   "outputs": [],
   "source": [
    "import pandas as pd\n",
    "import numpy as np\n",
    "import matplotlib.pyplot as plt\n",
    "from sklearn.preprocessing import StandardScaler\n",
    "from sklearn.model_selection import train_test_split\n",
    "from sklearn.pipeline import Pipeline\n",
    "from imblearn.over_sampling import SMOTE"
   ]
  },
  {
   "cell_type": "code",
   "execution_count": 2,
   "metadata": {
    "ExecuteTime": {
     "end_time": "2021-08-21T08:01:44.450016Z",
     "start_time": "2021-08-21T08:01:44.373400Z"
    }
   },
   "outputs": [],
   "source": [
    "from sklearn.cluster import KMeans\n",
    "from sklearn.metrics import silhouette_samples,silhouette_score\n",
    "from sklearn.cluster import AgglomerativeClustering\n",
    "from scipy.cluster.hierarchy import dendrogram,ward\n",
    "from sklearn.decomposition import PCA\n",
    "from sklearn.cluster import DBSCAN\n",
    "from sklearn.metrics.cluster import adjusted_mutual_info_score,adjusted_rand_score\n",
    "from sklearn.ensemble import AdaBoostClassifier\n",
    "from sklearn.pipeline import Pipeline\n",
    "from sklearn.model_selection import train_test_split\n",
    "from sklearn.metrics import confusion_matrix,accuracy_score\n",
    "from sklearn.metrics.cluster import adjusted_mutual_info_score,adjusted_rand_score\n",
    "from sklearn.metrics.cluster import homogeneity_completeness_v_measure\n",
    "from sklearn.mixture import GaussianMixture"
   ]
  },
  {
   "cell_type": "markdown",
   "metadata": {},
   "source": [
    "# Loading both train and test data"
   ]
  },
  {
   "cell_type": "code",
   "execution_count": 43,
   "metadata": {
    "ExecuteTime": {
     "end_time": "2021-08-21T08:29:45.873814Z",
     "start_time": "2021-08-21T08:29:45.854788Z"
    }
   },
   "outputs": [],
   "source": [
    "def load_data_unbalanced(input_=[r'C:\\Users\\mamun\\OneDrive\\Desktop\\integrify/train.csv',r'C:\\Users\\mamun\\OneDrive\\Desktop\\integrify/test.csv'],\n",
    "             sample_f=0.05):\n",
    "    train=pd.read_csv(input_[0])\n",
    "    \n",
    "    if sample_f!=0:\n",
    "        train=train.sample(frac=sample_f)\n",
    "        \n",
    "    train.loc[:, train.columns != 'id'] = train.loc[:, train.columns != 'id']\\\n",
    "            .astype('category').apply(lambda x: x.cat.codes)\n",
    "    train.drop(['id'],axis=1,inplace=True)\n",
    "    \n",
    "    train_x=train.drop('target',axis=1)\n",
    "    train_y=train['target']\n",
    "    \n",
    "  \n",
    "    \n",
    "    return(train_x,train_y)"
   ]
  },
  {
   "cell_type": "code",
   "execution_count": 44,
   "metadata": {
    "ExecuteTime": {
     "end_time": "2021-08-21T08:29:47.679155Z",
     "start_time": "2021-08-21T08:29:46.283122Z"
    }
   },
   "outputs": [],
   "source": [
    "train_x,train_y=load_data_unbalanced()"
   ]
  },
  {
   "cell_type": "code",
   "execution_count": 45,
   "metadata": {
    "ExecuteTime": {
     "end_time": "2021-08-21T08:29:47.917118Z",
     "start_time": "2021-08-21T08:29:47.902144Z"
    }
   },
   "outputs": [
    {
     "data": {
      "text/html": [
       "<div>\n",
       "<style scoped>\n",
       "    .dataframe tbody tr th:only-of-type {\n",
       "        vertical-align: middle;\n",
       "    }\n",
       "\n",
       "    .dataframe tbody tr th {\n",
       "        vertical-align: top;\n",
       "    }\n",
       "\n",
       "    .dataframe thead th {\n",
       "        text-align: right;\n",
       "    }\n",
       "</style>\n",
       "<table border=\"1\" class=\"dataframe\">\n",
       "  <thead>\n",
       "    <tr style=\"text-align: right;\">\n",
       "      <th></th>\n",
       "      <th>bin_0</th>\n",
       "      <th>bin_1</th>\n",
       "      <th>bin_2</th>\n",
       "      <th>bin_3</th>\n",
       "      <th>bin_4</th>\n",
       "      <th>nom_0</th>\n",
       "      <th>nom_1</th>\n",
       "      <th>nom_2</th>\n",
       "      <th>nom_3</th>\n",
       "      <th>nom_4</th>\n",
       "      <th>...</th>\n",
       "      <th>nom_8</th>\n",
       "      <th>nom_9</th>\n",
       "      <th>ord_0</th>\n",
       "      <th>ord_1</th>\n",
       "      <th>ord_2</th>\n",
       "      <th>ord_3</th>\n",
       "      <th>ord_4</th>\n",
       "      <th>ord_5</th>\n",
       "      <th>day</th>\n",
       "      <th>month</th>\n",
       "    </tr>\n",
       "  </thead>\n",
       "  <tbody>\n",
       "    <tr>\n",
       "      <th>280025</th>\n",
       "      <td>0</td>\n",
       "      <td>0</td>\n",
       "      <td>1</td>\n",
       "      <td>1</td>\n",
       "      <td>1</td>\n",
       "      <td>0</td>\n",
       "      <td>2</td>\n",
       "      <td>0</td>\n",
       "      <td>5</td>\n",
       "      <td>1</td>\n",
       "      <td>...</td>\n",
       "      <td>61</td>\n",
       "      <td>1965</td>\n",
       "      <td>0</td>\n",
       "      <td>2</td>\n",
       "      <td>4</td>\n",
       "      <td>14</td>\n",
       "      <td>24</td>\n",
       "      <td>60</td>\n",
       "      <td>2</td>\n",
       "      <td>2</td>\n",
       "    </tr>\n",
       "    <tr>\n",
       "      <th>289242</th>\n",
       "      <td>0</td>\n",
       "      <td>0</td>\n",
       "      <td>0</td>\n",
       "      <td>0</td>\n",
       "      <td>1</td>\n",
       "      <td>2</td>\n",
       "      <td>5</td>\n",
       "      <td>2</td>\n",
       "      <td>5</td>\n",
       "      <td>0</td>\n",
       "      <td>...</td>\n",
       "      <td>88</td>\n",
       "      <td>1285</td>\n",
       "      <td>2</td>\n",
       "      <td>3</td>\n",
       "      <td>2</td>\n",
       "      <td>13</td>\n",
       "      <td>15</td>\n",
       "      <td>124</td>\n",
       "      <td>1</td>\n",
       "      <td>4</td>\n",
       "    </tr>\n",
       "    <tr>\n",
       "      <th>525884</th>\n",
       "      <td>0</td>\n",
       "      <td>0</td>\n",
       "      <td>0</td>\n",
       "      <td>0</td>\n",
       "      <td>1</td>\n",
       "      <td>0</td>\n",
       "      <td>4</td>\n",
       "      <td>3</td>\n",
       "      <td>3</td>\n",
       "      <td>0</td>\n",
       "      <td>...</td>\n",
       "      <td>92</td>\n",
       "      <td>869</td>\n",
       "      <td>0</td>\n",
       "      <td>1</td>\n",
       "      <td>0</td>\n",
       "      <td>8</td>\n",
       "      <td>19</td>\n",
       "      <td>-1</td>\n",
       "      <td>2</td>\n",
       "      <td>7</td>\n",
       "    </tr>\n",
       "    <tr>\n",
       "      <th>114912</th>\n",
       "      <td>0</td>\n",
       "      <td>0</td>\n",
       "      <td>1</td>\n",
       "      <td>1</td>\n",
       "      <td>1</td>\n",
       "      <td>1</td>\n",
       "      <td>0</td>\n",
       "      <td>2</td>\n",
       "      <td>2</td>\n",
       "      <td>3</td>\n",
       "      <td>...</td>\n",
       "      <td>103</td>\n",
       "      <td>356</td>\n",
       "      <td>2</td>\n",
       "      <td>3</td>\n",
       "      <td>3</td>\n",
       "      <td>2</td>\n",
       "      <td>2</td>\n",
       "      <td>124</td>\n",
       "      <td>1</td>\n",
       "      <td>2</td>\n",
       "    </tr>\n",
       "    <tr>\n",
       "      <th>3690</th>\n",
       "      <td>0</td>\n",
       "      <td>0</td>\n",
       "      <td>1</td>\n",
       "      <td>0</td>\n",
       "      <td>0</td>\n",
       "      <td>2</td>\n",
       "      <td>1</td>\n",
       "      <td>1</td>\n",
       "      <td>2</td>\n",
       "      <td>0</td>\n",
       "      <td>...</td>\n",
       "      <td>178</td>\n",
       "      <td>793</td>\n",
       "      <td>0</td>\n",
       "      <td>2</td>\n",
       "      <td>0</td>\n",
       "      <td>7</td>\n",
       "      <td>1</td>\n",
       "      <td>114</td>\n",
       "      <td>2</td>\n",
       "      <td>1</td>\n",
       "    </tr>\n",
       "  </tbody>\n",
       "</table>\n",
       "<p>5 rows × 23 columns</p>\n",
       "</div>"
      ],
      "text/plain": [
       "        bin_0  bin_1  bin_2  bin_3  bin_4  nom_0  nom_1  nom_2  nom_3  nom_4  \\\n",
       "280025      0      0      1      1      1      0      2      0      5      1   \n",
       "289242      0      0      0      0      1      2      5      2      5      0   \n",
       "525884      0      0      0      0      1      0      4      3      3      0   \n",
       "114912      0      0      1      1      1      1      0      2      2      3   \n",
       "3690        0      0      1      0      0      2      1      1      2      0   \n",
       "\n",
       "        ...  nom_8  nom_9  ord_0  ord_1  ord_2  ord_3  ord_4  ord_5  day  \\\n",
       "280025  ...     61   1965      0      2      4     14     24     60    2   \n",
       "289242  ...     88   1285      2      3      2     13     15    124    1   \n",
       "525884  ...     92    869      0      1      0      8     19     -1    2   \n",
       "114912  ...    103    356      2      3      3      2      2    124    1   \n",
       "3690    ...    178    793      0      2      0      7      1    114    2   \n",
       "\n",
       "        month  \n",
       "280025      2  \n",
       "289242      4  \n",
       "525884      7  \n",
       "114912      2  \n",
       "3690        1  \n",
       "\n",
       "[5 rows x 23 columns]"
      ]
     },
     "execution_count": 45,
     "metadata": {},
     "output_type": "execute_result"
    }
   ],
   "source": [
    "train_x.head()"
   ]
  },
  {
   "cell_type": "code",
   "execution_count": 46,
   "metadata": {
    "ExecuteTime": {
     "end_time": "2021-08-21T08:29:48.169129Z",
     "start_time": "2021-08-21T08:29:48.157123Z"
    }
   },
   "outputs": [
    {
     "data": {
      "text/plain": [
       "0    24440\n",
       "1     5560\n",
       "Name: target, dtype: int64"
      ]
     },
     "execution_count": 46,
     "metadata": {},
     "output_type": "execute_result"
    }
   ],
   "source": [
    "train_y.value_counts()"
   ]
  },
  {
   "cell_type": "markdown",
   "metadata": {},
   "source": [
    "# Loading test data only 10% sample of the whole data"
   ]
  },
  {
   "cell_type": "code",
   "execution_count": 47,
   "metadata": {
    "ExecuteTime": {
     "end_time": "2021-08-21T08:29:49.211270Z",
     "start_time": "2021-08-21T08:29:49.197275Z"
    }
   },
   "outputs": [],
   "source": [
    "def load_test(data,sample_=0.10):\n",
    "    if sample_!=0:\n",
    "        data=data.sample(frac=sample_)\n",
    "    \n",
    "    data.loc[:, data.columns != 'id'] = data.loc[:, data.columns != 'id']\\\n",
    "            .astype('category').apply(lambda x: x.cat.codes)\n",
    "    data.drop(['id'],axis=1,inplace=True)\n",
    "    \n",
    "    return(data)"
   ]
  },
  {
   "cell_type": "code",
   "execution_count": 48,
   "metadata": {
    "ExecuteTime": {
     "end_time": "2021-08-21T08:29:50.590049Z",
     "start_time": "2021-08-21T08:29:49.661649Z"
    }
   },
   "outputs": [],
   "source": [
    "## loading the test data\n",
    "\n",
    "data=pd.read_csv(r'C:\\Users\\mamun\\OneDrive\\Desktop\\integrify/test.csv')\n",
    "\n",
    "test_data=load_test(data)"
   ]
  },
  {
   "cell_type": "code",
   "execution_count": 49,
   "metadata": {
    "ExecuteTime": {
     "end_time": "2021-08-21T08:29:50.845685Z",
     "start_time": "2021-08-21T08:29:50.817651Z"
    }
   },
   "outputs": [
    {
     "data": {
      "text/html": [
       "<div>\n",
       "<style scoped>\n",
       "    .dataframe tbody tr th:only-of-type {\n",
       "        vertical-align: middle;\n",
       "    }\n",
       "\n",
       "    .dataframe tbody tr th {\n",
       "        vertical-align: top;\n",
       "    }\n",
       "\n",
       "    .dataframe thead th {\n",
       "        text-align: right;\n",
       "    }\n",
       "</style>\n",
       "<table border=\"1\" class=\"dataframe\">\n",
       "  <thead>\n",
       "    <tr style=\"text-align: right;\">\n",
       "      <th></th>\n",
       "      <th>bin_0</th>\n",
       "      <th>bin_1</th>\n",
       "      <th>bin_2</th>\n",
       "      <th>bin_3</th>\n",
       "      <th>bin_4</th>\n",
       "      <th>nom_0</th>\n",
       "      <th>nom_1</th>\n",
       "      <th>nom_2</th>\n",
       "      <th>nom_3</th>\n",
       "      <th>nom_4</th>\n",
       "      <th>...</th>\n",
       "      <th>nom_8</th>\n",
       "      <th>nom_9</th>\n",
       "      <th>ord_0</th>\n",
       "      <th>ord_1</th>\n",
       "      <th>ord_2</th>\n",
       "      <th>ord_3</th>\n",
       "      <th>ord_4</th>\n",
       "      <th>ord_5</th>\n",
       "      <th>day</th>\n",
       "      <th>month</th>\n",
       "    </tr>\n",
       "  </thead>\n",
       "  <tbody>\n",
       "    <tr>\n",
       "      <th>142473</th>\n",
       "      <td>0</td>\n",
       "      <td>0</td>\n",
       "      <td>-1</td>\n",
       "      <td>0</td>\n",
       "      <td>1</td>\n",
       "      <td>0</td>\n",
       "      <td>4</td>\n",
       "      <td>3</td>\n",
       "      <td>3</td>\n",
       "      <td>0</td>\n",
       "      <td>...</td>\n",
       "      <td>3</td>\n",
       "      <td>831</td>\n",
       "      <td>1</td>\n",
       "      <td>3</td>\n",
       "      <td>0</td>\n",
       "      <td>13</td>\n",
       "      <td>20</td>\n",
       "      <td>180</td>\n",
       "      <td>0</td>\n",
       "      <td>4</td>\n",
       "    </tr>\n",
       "    <tr>\n",
       "      <th>340277</th>\n",
       "      <td>0</td>\n",
       "      <td>0</td>\n",
       "      <td>1</td>\n",
       "      <td>0</td>\n",
       "      <td>1</td>\n",
       "      <td>0</td>\n",
       "      <td>5</td>\n",
       "      <td>4</td>\n",
       "      <td>4</td>\n",
       "      <td>0</td>\n",
       "      <td>...</td>\n",
       "      <td>2</td>\n",
       "      <td>652</td>\n",
       "      <td>2</td>\n",
       "      <td>-1</td>\n",
       "      <td>2</td>\n",
       "      <td>0</td>\n",
       "      <td>15</td>\n",
       "      <td>97</td>\n",
       "      <td>2</td>\n",
       "      <td>4</td>\n",
       "    </tr>\n",
       "    <tr>\n",
       "      <th>34802</th>\n",
       "      <td>0</td>\n",
       "      <td>-1</td>\n",
       "      <td>0</td>\n",
       "      <td>1</td>\n",
       "      <td>1</td>\n",
       "      <td>2</td>\n",
       "      <td>5</td>\n",
       "      <td>0</td>\n",
       "      <td>2</td>\n",
       "      <td>3</td>\n",
       "      <td>...</td>\n",
       "      <td>46</td>\n",
       "      <td>1144</td>\n",
       "      <td>1</td>\n",
       "      <td>1</td>\n",
       "      <td>5</td>\n",
       "      <td>0</td>\n",
       "      <td>17</td>\n",
       "      <td>75</td>\n",
       "      <td>2</td>\n",
       "      <td>2</td>\n",
       "    </tr>\n",
       "    <tr>\n",
       "      <th>107775</th>\n",
       "      <td>0</td>\n",
       "      <td>0</td>\n",
       "      <td>1</td>\n",
       "      <td>1</td>\n",
       "      <td>0</td>\n",
       "      <td>2</td>\n",
       "      <td>1</td>\n",
       "      <td>3</td>\n",
       "      <td>3</td>\n",
       "      <td>0</td>\n",
       "      <td>...</td>\n",
       "      <td>106</td>\n",
       "      <td>410</td>\n",
       "      <td>1</td>\n",
       "      <td>3</td>\n",
       "      <td>5</td>\n",
       "      <td>0</td>\n",
       "      <td>3</td>\n",
       "      <td>71</td>\n",
       "      <td>4</td>\n",
       "      <td>0</td>\n",
       "    </tr>\n",
       "    <tr>\n",
       "      <th>9036</th>\n",
       "      <td>0</td>\n",
       "      <td>0</td>\n",
       "      <td>0</td>\n",
       "      <td>1</td>\n",
       "      <td>0</td>\n",
       "      <td>0</td>\n",
       "      <td>0</td>\n",
       "      <td>3</td>\n",
       "      <td>4</td>\n",
       "      <td>1</td>\n",
       "      <td>...</td>\n",
       "      <td>213</td>\n",
       "      <td>1462</td>\n",
       "      <td>0</td>\n",
       "      <td>3</td>\n",
       "      <td>2</td>\n",
       "      <td>7</td>\n",
       "      <td>23</td>\n",
       "      <td>117</td>\n",
       "      <td>5</td>\n",
       "      <td>7</td>\n",
       "    </tr>\n",
       "  </tbody>\n",
       "</table>\n",
       "<p>5 rows × 23 columns</p>\n",
       "</div>"
      ],
      "text/plain": [
       "        bin_0  bin_1  bin_2  bin_3  bin_4  nom_0  nom_1  nom_2  nom_3  nom_4  \\\n",
       "142473      0      0     -1      0      1      0      4      3      3      0   \n",
       "340277      0      0      1      0      1      0      5      4      4      0   \n",
       "34802       0     -1      0      1      1      2      5      0      2      3   \n",
       "107775      0      0      1      1      0      2      1      3      3      0   \n",
       "9036        0      0      0      1      0      0      0      3      4      1   \n",
       "\n",
       "        ...  nom_8  nom_9  ord_0  ord_1  ord_2  ord_3  ord_4  ord_5  day  \\\n",
       "142473  ...      3    831      1      3      0     13     20    180    0   \n",
       "340277  ...      2    652      2     -1      2      0     15     97    2   \n",
       "34802   ...     46   1144      1      1      5      0     17     75    2   \n",
       "107775  ...    106    410      1      3      5      0      3     71    4   \n",
       "9036    ...    213   1462      0      3      2      7     23    117    5   \n",
       "\n",
       "        month  \n",
       "142473      4  \n",
       "340277      4  \n",
       "34802       2  \n",
       "107775      0  \n",
       "9036        7  \n",
       "\n",
       "[5 rows x 23 columns]"
      ]
     },
     "execution_count": 49,
     "metadata": {},
     "output_type": "execute_result"
    }
   ],
   "source": [
    "test_data.head()"
   ]
  },
  {
   "cell_type": "code",
   "execution_count": 50,
   "metadata": {
    "ExecuteTime": {
     "end_time": "2021-08-21T08:29:51.939577Z",
     "start_time": "2021-08-21T08:29:51.919540Z"
    }
   },
   "outputs": [
    {
     "data": {
      "text/plain": [
       "-1       873\n",
       " 1122     65\n",
       " 128      61\n",
       " 826      60\n",
       " 177      57\n",
       "        ... \n",
       " 463       1\n",
       " 282       1\n",
       " 511       1\n",
       " 315       1\n",
       " 988       1\n",
       "Name: nom_5, Length: 1198, dtype: int64"
      ]
     },
     "execution_count": 50,
     "metadata": {},
     "output_type": "execute_result"
    }
   ],
   "source": [
    "train_x.nom_5.value_counts()"
   ]
  },
  {
   "cell_type": "code",
   "execution_count": 51,
   "metadata": {
    "ExecuteTime": {
     "end_time": "2021-08-21T08:29:54.334687Z",
     "start_time": "2021-08-21T08:29:54.319647Z"
    }
   },
   "outputs": [],
   "source": [
    "# Drop the columns that have nop significant values\n",
    "train_x=train_x.drop(columns=['nom_5','nom_6','nom_7','nom_8','nom_9','ord_5'],axis=1)"
   ]
  },
  {
   "cell_type": "code",
   "execution_count": 53,
   "metadata": {
    "ExecuteTime": {
     "end_time": "2021-08-21T08:30:02.912967Z",
     "start_time": "2021-08-21T08:30:02.896968Z"
    }
   },
   "outputs": [
    {
     "data": {
      "text/plain": [
       "13    2029\n",
       "24    1881\n",
       "15    1845\n",
       "0     1820\n",
       "17    1714\n",
       "12    1634\n",
       "23    1629\n",
       "2     1627\n",
       "20    1617\n",
       "7     1535\n",
       "Name: ord_4, dtype: int64"
      ]
     },
     "execution_count": 53,
     "metadata": {},
     "output_type": "execute_result"
    }
   ],
   "source": [
    "train_x.ord_4.value_counts()[:10]"
   ]
  },
  {
   "cell_type": "markdown",
   "metadata": {},
   "source": [
    "# Application of Kmeans"
   ]
  },
  {
   "cell_type": "code",
   "execution_count": 54,
   "metadata": {
    "ExecuteTime": {
     "end_time": "2021-08-21T08:32:09.283811Z",
     "start_time": "2021-08-21T08:31:51.109816Z"
    }
   },
   "outputs": [],
   "source": [
    "# first we are applying the kmeans in train data. \n",
    "kmeans_per_k=[KMeans(n_clusters=k,random_state=42).fit(train_x) for k in range(1,20)]\n",
    "\n",
    "inertia=[model.inertia_ for model in kmeans_per_k]"
   ]
  },
  {
   "cell_type": "code",
   "execution_count": 55,
   "metadata": {
    "ExecuteTime": {
     "end_time": "2021-08-21T08:34:35.860930Z",
     "start_time": "2021-08-21T08:32:28.471540Z"
    }
   },
   "outputs": [],
   "source": [
    "silh_score=[silhouette_score(train_x,model.labels_)for model in kmeans_per_k[1:]]"
   ]
  },
  {
   "cell_type": "code",
   "execution_count": 56,
   "metadata": {
    "ExecuteTime": {
     "end_time": "2021-08-21T08:36:28.945791Z",
     "start_time": "2021-08-21T08:36:28.938803Z"
    }
   },
   "outputs": [
    {
     "data": {
      "text/plain": [
       "[0.31643857541702325,\n",
       " 0.24899752417375517,\n",
       " 0.20959293454910552,\n",
       " 0.19305282594028927,\n",
       " 0.17988856635493455,\n",
       " 0.17526141758189984,\n",
       " 0.1585089857163959,\n",
       " 0.14974644852186694,\n",
       " 0.13800298072237904,\n",
       " 0.13230481263290425,\n",
       " 0.13059642596854662,\n",
       " 0.12731217631541505,\n",
       " 0.12351532840815929,\n",
       " 0.1228957924760128,\n",
       " 0.11998559634139278,\n",
       " 0.11932871613165656,\n",
       " 0.11790680949036568,\n",
       " 0.11526534828396082]"
      ]
     },
     "execution_count": 56,
     "metadata": {},
     "output_type": "execute_result"
    }
   ],
   "source": [
    "silh_score"
   ]
  },
  {
   "cell_type": "code",
   "execution_count": 59,
   "metadata": {
    "ExecuteTime": {
     "end_time": "2021-08-21T08:36:49.559470Z",
     "start_time": "2021-08-21T08:36:49.435505Z"
    }
   },
   "outputs": [
    {
     "data": {
      "text/plain": [
       "[<matplotlib.lines.Line2D at 0x20680758e20>]"
      ]
     },
     "execution_count": 59,
     "metadata": {},
     "output_type": "execute_result"
    },
    {
     "data": {
      "image/png": "[encoded data removed]",
      "text/plain": [
       "<Figure size 720x288 with 1 Axes>"
      ]
     },
     "metadata": {
      "needs_background": "light"
     },
     "output_type": "display_data"
    }
   ],
   "source": [
    "plt.figure(figsize=(10,4))\n",
    "plt.plot(range(1,19),silh_score)"
   ]
  },
  {
   "cell_type": "code",
   "execution_count": 60,
   "metadata": {
    "ExecuteTime": {
     "end_time": "2021-08-21T08:36:55.335060Z",
     "start_time": "2021-08-21T08:36:54.684067Z"
    }
   },
   "outputs": [],
   "source": [
    "kmeans1=KMeans(n_clusters=8,random_state=42).fit(train_x)\n"
   ]
  },
  {
   "cell_type": "code",
   "execution_count": 61,
   "metadata": {
    "ExecuteTime": {
     "end_time": "2021-08-21T08:36:56.760206Z",
     "start_time": "2021-08-21T08:36:56.735208Z"
    }
   },
   "outputs": [
    {
     "data": {
      "text/plain": [
       "array([6, 1, 6, ..., 6, 2, 3])"
      ]
     },
     "execution_count": 61,
     "metadata": {},
     "output_type": "execute_result"
    }
   ],
   "source": [
    "kmeans1.predict(train_x)"
   ]
  },
  {
   "cell_type": "code",
   "execution_count": 62,
   "metadata": {
    "ExecuteTime": {
     "end_time": "2021-08-21T08:36:57.488858Z",
     "start_time": "2021-08-21T08:36:57.479822Z"
    }
   },
   "outputs": [
    {
     "data": {
      "text/plain": [
       "array([6, 1, 6, ..., 6, 2, 3])"
      ]
     },
     "execution_count": 62,
     "metadata": {},
     "output_type": "execute_result"
    }
   ],
   "source": [
    "kmeans1.labels_"
   ]
  },
  {
   "cell_type": "code",
   "execution_count": 63,
   "metadata": {
    "ExecuteTime": {
     "end_time": "2021-08-21T08:36:58.080130Z",
     "start_time": "2021-08-21T08:36:58.054131Z"
    }
   },
   "outputs": [
    {
     "data": {
      "text/plain": [
       "(0.04117262497053454, 0.009536039350296338, 0.015485470861149186)"
      ]
     },
     "execution_count": 63,
     "metadata": {},
     "output_type": "execute_result"
    }
   ],
   "source": [
    "homogeneity_completeness_v_measure(train_y,kmeans1.predict(train_x))"
   ]
  },
  {
   "cell_type": "code",
   "execution_count": 64,
   "metadata": {
    "ExecuteTime": {
     "end_time": "2021-08-21T08:36:58.623229Z",
     "start_time": "2021-08-21T08:36:58.589240Z"
    }
   },
   "outputs": [
    {
     "data": {
      "text/plain": [
       "0.0008560574047491132"
      ]
     },
     "execution_count": 64,
     "metadata": {},
     "output_type": "execute_result"
    }
   ],
   "source": [
    "adjusted_rand_score(train_y,kmeans1.predict(train_x))"
   ]
  },
  {
   "cell_type": "code",
   "execution_count": 65,
   "metadata": {
    "ExecuteTime": {
     "end_time": "2021-08-21T08:37:05.907095Z",
     "start_time": "2021-08-21T08:36:59.150061Z"
    }
   },
   "outputs": [
    {
     "data": {
      "text/plain": [
       "0.1585089857163959"
      ]
     },
     "execution_count": 65,
     "metadata": {},
     "output_type": "execute_result"
    }
   ],
   "source": [
    "silhouette_score(train_x,kmeans1.labels_)"
   ]
  },
  {
   "cell_type": "markdown",
   "metadata": {},
   "source": [
    "## Scaling of data"
   ]
  },
  {
   "cell_type": "code",
   "execution_count": 66,
   "metadata": {
    "ExecuteTime": {
     "end_time": "2021-08-21T08:37:06.155439Z",
     "start_time": "2021-08-21T08:37:06.126051Z"
    }
   },
   "outputs": [],
   "source": [
    "scaler=StandardScaler()\n",
    "scaled=scaler.fit_transform(train_x)"
   ]
  },
  {
   "cell_type": "code",
   "execution_count": 67,
   "metadata": {
    "ExecuteTime": {
     "end_time": "2021-08-21T08:37:06.395057Z",
     "start_time": "2021-08-21T08:37:06.382059Z"
    }
   },
   "outputs": [
    {
     "data": {
      "text/plain": [
       "array([[-0.17521381, -0.34308253,  1.54444865, ...,  1.54873738,\n",
       "        -0.47551781, -0.88678561],\n",
       "       [-0.17521381, -0.34308253, -0.49739251, ...,  0.39019976,\n",
       "        -0.94682528, -0.3271935 ],\n",
       "       [-0.17521381, -0.34308253, -0.49739251, ...,  0.90510537,\n",
       "        -0.47551781,  0.51219465],\n",
       "       ...,\n",
       "       [-0.17521381,  1.96983342, -0.49739251, ...,  1.03383177,\n",
       "         0.93840459, -1.44637771],\n",
       "       [-0.17521381,  1.96983342, -0.49739251, ...,  1.54873738,\n",
       "        -1.88944021, -1.44637771],\n",
       "       [-3.1415875 , -0.34308253,  1.54444865, ..., -0.63961146,\n",
       "         1.40971205, -0.04739745]])"
      ]
     },
     "execution_count": 67,
     "metadata": {},
     "output_type": "execute_result"
    }
   ],
   "source": [
    "scaled"
   ]
  },
  {
   "cell_type": "code",
   "execution_count": 68,
   "metadata": {
    "ExecuteTime": {
     "end_time": "2021-08-21T08:37:07.852048Z",
     "start_time": "2021-08-21T08:37:06.642052Z"
    }
   },
   "outputs": [],
   "source": [
    "km_scaled=KMeans(n_clusters=8,random_state=42).fit(scaled)"
   ]
  },
  {
   "cell_type": "code",
   "execution_count": 69,
   "metadata": {
    "ExecuteTime": {
     "end_time": "2021-08-21T08:37:14.958304Z",
     "start_time": "2021-08-21T08:37:08.140104Z"
    }
   },
   "outputs": [
    {
     "data": {
      "text/plain": [
       "0.03925105325123783"
      ]
     },
     "execution_count": 69,
     "metadata": {},
     "output_type": "execute_result"
    }
   ],
   "source": [
    "silhouette_score(scaled,km_scaled.labels_)"
   ]
  },
  {
   "cell_type": "code",
   "execution_count": 70,
   "metadata": {
    "ExecuteTime": {
     "end_time": "2021-08-21T08:37:15.213049Z",
     "start_time": "2021-08-21T08:37:15.183050Z"
    }
   },
   "outputs": [
    {
     "data": {
      "text/plain": [
       "-0.0024725242760058655"
      ]
     },
     "execution_count": 70,
     "metadata": {},
     "output_type": "execute_result"
    }
   ],
   "source": [
    "adjusted_rand_score(train_y,km_scaled.predict(scaled))"
   ]
  },
  {
   "cell_type": "code",
   "execution_count": 71,
   "metadata": {
    "ExecuteTime": {
     "end_time": "2021-08-21T08:38:00.986049Z",
     "start_time": "2021-08-21T08:37:15.506068Z"
    }
   },
   "outputs": [],
   "source": [
    "kmeans_per_k=[KMeans(n_clusters=k,random_state=42).fit(scaled) for k in range(1,20)]\n",
    "\n",
    "inertia=[model.inertia_ for model in kmeans_per_k]"
   ]
  },
  {
   "cell_type": "code",
   "execution_count": 72,
   "metadata": {
    "ExecuteTime": {
     "end_time": "2021-08-21T08:40:12.510052Z",
     "start_time": "2021-08-21T08:38:01.257117Z"
    }
   },
   "outputs": [],
   "source": [
    "silh_score=[silhouette_score(scaled,model.labels_)for model in kmeans_per_k[1:]]"
   ]
  },
  {
   "cell_type": "code",
   "execution_count": 74,
   "metadata": {
    "ExecuteTime": {
     "end_time": "2021-08-21T08:41:18.279827Z",
     "start_time": "2021-08-21T08:41:18.121831Z"
    }
   },
   "outputs": [
    {
     "data": {
      "text/plain": [
       "[<matplotlib.lines.Line2D at 0x2068176f1c0>]"
      ]
     },
     "execution_count": 74,
     "metadata": {},
     "output_type": "execute_result"
    },
    {
     "data": {
      "image/png": "[encoded data removed]",
      "text/plain": [
       "<Figure size 720x288 with 1 Axes>"
      ]
     },
     "metadata": {
      "needs_background": "light"
     },
     "output_type": "display_data"
    }
   ],
   "source": [
    "plt.figure(figsize=(10,4))\n",
    "plt.plot(range(1,19),silh_score)"
   ]
  },
  {
   "cell_type": "code",
   "execution_count": 75,
   "metadata": {
    "ExecuteTime": {
     "end_time": "2021-08-21T08:41:20.587718Z",
     "start_time": "2021-08-21T08:41:20.098725Z"
    }
   },
   "outputs": [],
   "source": [
    "km_scaled_=KMeans(n_clusters=3,random_state=42).fit(scaled)"
   ]
  },
  {
   "cell_type": "code",
   "execution_count": 76,
   "metadata": {
    "ExecuteTime": {
     "end_time": "2021-08-21T08:41:28.152661Z",
     "start_time": "2021-08-21T08:41:21.044664Z"
    }
   },
   "outputs": [
    {
     "data": {
      "text/plain": [
       "0.05970739885490232"
      ]
     },
     "execution_count": 76,
     "metadata": {},
     "output_type": "execute_result"
    }
   ],
   "source": [
    "silhouette_score(scaled,km_scaled_.labels_)"
   ]
  },
  {
   "cell_type": "code",
   "execution_count": 77,
   "metadata": {
    "ExecuteTime": {
     "end_time": "2021-08-21T08:41:28.398661Z",
     "start_time": "2021-08-21T08:41:28.370666Z"
    }
   },
   "outputs": [
    {
     "data": {
      "text/plain": [
       "0.0003096776192606158"
      ]
     },
     "execution_count": 77,
     "metadata": {},
     "output_type": "execute_result"
    }
   ],
   "source": [
    "adjusted_rand_score(train_y,km_scaled_.predict(scaled))"
   ]
  },
  {
   "cell_type": "markdown",
   "metadata": {},
   "source": [
    "## without removing the columns"
   ]
  },
  {
   "cell_type": "code",
   "execution_count": 78,
   "metadata": {
    "ExecuteTime": {
     "end_time": "2021-08-21T08:41:30.104070Z",
     "start_time": "2021-08-21T08:41:28.665713Z"
    }
   },
   "outputs": [],
   "source": [
    "x,y=load_data_unbalanced()"
   ]
  },
  {
   "cell_type": "code",
   "execution_count": 79,
   "metadata": {
    "ExecuteTime": {
     "end_time": "2021-08-21T08:41:30.391710Z",
     "start_time": "2021-08-21T08:41:30.360683Z"
    }
   },
   "outputs": [],
   "source": [
    "scaled_x=scaler.fit_transform(x)"
   ]
  },
  {
   "cell_type": "code",
   "execution_count": 80,
   "metadata": {
    "ExecuteTime": {
     "end_time": "2021-08-21T08:41:31.059660Z",
     "start_time": "2021-08-21T08:41:30.662666Z"
    }
   },
   "outputs": [],
   "source": [
    "km_scaled_x =KMeans(n_clusters=2,random_state=0).fit(scaled_x)"
   ]
  },
  {
   "cell_type": "code",
   "execution_count": 81,
   "metadata": {
    "ExecuteTime": {
     "end_time": "2021-08-21T08:41:38.646663Z",
     "start_time": "2021-08-21T08:41:31.330666Z"
    }
   },
   "outputs": [
    {
     "data": {
      "text/plain": [
       "0.03946549423052154"
      ]
     },
     "execution_count": 81,
     "metadata": {},
     "output_type": "execute_result"
    }
   ],
   "source": [
    "silhouette_score(scaled_x,km_scaled_x.labels_)"
   ]
  },
  {
   "cell_type": "code",
   "execution_count": 82,
   "metadata": {
    "ExecuteTime": {
     "end_time": "2021-08-21T08:41:38.929663Z",
     "start_time": "2021-08-21T08:41:38.901669Z"
    }
   },
   "outputs": [
    {
     "data": {
      "text/plain": [
       "-2.77823245861966e-05"
      ]
     },
     "execution_count": 82,
     "metadata": {},
     "output_type": "execute_result"
    }
   ],
   "source": [
    "adjusted_rand_score(train_y,km_scaled_x.predict(scaled_x))"
   ]
  },
  {
   "cell_type": "markdown",
   "metadata": {},
   "source": [
    "## Agglomerative"
   ]
  },
  {
   "cell_type": "code",
   "execution_count": 83,
   "metadata": {
    "ExecuteTime": {
     "end_time": "2021-08-21T08:42:23.924700Z",
     "start_time": "2021-08-21T08:41:39.198678Z"
    }
   },
   "outputs": [],
   "source": [
    "agg=AgglomerativeClustering(n_clusters=2).fit(scaled_x)"
   ]
  },
  {
   "cell_type": "code",
   "execution_count": 84,
   "metadata": {
    "ExecuteTime": {
     "end_time": "2021-08-21T08:42:32.354661Z",
     "start_time": "2021-08-21T08:42:24.245667Z"
    }
   },
   "outputs": [
    {
     "data": {
      "text/plain": [
       "0.0875362329705008"
      ]
     },
     "execution_count": 84,
     "metadata": {},
     "output_type": "execute_result"
    }
   ],
   "source": [
    "silhouette_score(scaled_x,agg.labels_)"
   ]
  },
  {
   "cell_type": "code",
   "execution_count": 85,
   "metadata": {
    "ExecuteTime": {
     "end_time": "2021-08-21T08:42:32.698288Z",
     "start_time": "2021-08-21T08:42:32.620674Z"
    }
   },
   "outputs": [
    {
     "data": {
      "text/plain": [
       "7206"
      ]
     },
     "execution_count": 85,
     "metadata": {},
     "output_type": "execute_result"
    }
   ],
   "source": [
    "sum(agg.labels_!=train_y)"
   ]
  },
  {
   "cell_type": "code",
   "execution_count": 86,
   "metadata": {
    "ExecuteTime": {
     "end_time": "2021-08-21T08:43:14.355304Z",
     "start_time": "2021-08-21T08:42:32.955341Z"
    }
   },
   "outputs": [],
   "source": [
    "agg=AgglomerativeClustering(n_clusters=2).fit(train_x)"
   ]
  },
  {
   "cell_type": "code",
   "execution_count": 87,
   "metadata": {
    "ExecuteTime": {
     "end_time": "2021-08-21T08:43:22.145322Z",
     "start_time": "2021-08-21T08:43:14.690295Z"
    }
   },
   "outputs": [
    {
     "data": {
      "text/plain": [
       "0.3136281122869895"
      ]
     },
     "execution_count": 87,
     "metadata": {},
     "output_type": "execute_result"
    }
   ],
   "source": [
    "silhouette_score(train_x,agg.labels_)"
   ]
  },
  {
   "cell_type": "markdown",
   "metadata": {},
   "source": [
    "## Gaussian mixture"
   ]
  },
  {
   "cell_type": "markdown",
   "metadata": {},
   "source": [
    "### unscaled data"
   ]
  },
  {
   "cell_type": "code",
   "execution_count": 88,
   "metadata": {
    "ExecuteTime": {
     "end_time": "2021-08-21T08:43:22.679291Z",
     "start_time": "2021-08-21T08:43:22.400293Z"
    }
   },
   "outputs": [],
   "source": [
    "gm=GaussianMixture(n_components=2).fit(train_x)"
   ]
  },
  {
   "cell_type": "code",
   "execution_count": 89,
   "metadata": {
    "ExecuteTime": {
     "end_time": "2021-08-21T08:43:22.965293Z",
     "start_time": "2021-08-21T08:43:22.934334Z"
    }
   },
   "outputs": [
    {
     "data": {
      "text/plain": [
       "array([1, 1, 1, ..., 1, 1, 0], dtype=int64)"
      ]
     },
     "execution_count": 89,
     "metadata": {},
     "output_type": "execute_result"
    }
   ],
   "source": [
    "gm.predict(train_x)"
   ]
  },
  {
   "cell_type": "code",
   "execution_count": 90,
   "metadata": {
    "ExecuteTime": {
     "end_time": "2021-08-21T08:43:31.034293Z",
     "start_time": "2021-08-21T08:43:23.234335Z"
    }
   },
   "outputs": [
    {
     "data": {
      "text/plain": [
       "0.30720633322801405"
      ]
     },
     "execution_count": 90,
     "metadata": {},
     "output_type": "execute_result"
    }
   ],
   "source": [
    "silhouette_score(train_x,gm.predict(train_x))"
   ]
  },
  {
   "cell_type": "markdown",
   "metadata": {},
   "source": [
    "### scaled data"
   ]
  },
  {
   "cell_type": "code",
   "execution_count": 91,
   "metadata": {
    "ExecuteTime": {
     "end_time": "2021-08-21T08:43:31.510292Z",
     "start_time": "2021-08-21T08:43:31.307293Z"
    }
   },
   "outputs": [],
   "source": [
    "gm_=GaussianMixture(n_components=2).fit(scaled_x)"
   ]
  },
  {
   "cell_type": "code",
   "execution_count": 92,
   "metadata": {
    "ExecuteTime": {
     "end_time": "2021-08-21T08:43:39.429295Z",
     "start_time": "2021-08-21T08:43:31.783294Z"
    }
   },
   "outputs": [
    {
     "data": {
      "text/plain": [
       "0.033472828568706"
      ]
     },
     "execution_count": 92,
     "metadata": {},
     "output_type": "execute_result"
    }
   ],
   "source": [
    "silhouette_score(scaled_x,gm_.predict(scaled_x))"
   ]
  },
  {
   "cell_type": "markdown",
   "metadata": {},
   "source": [
    "## Dimensionality reduction"
   ]
  },
  {
   "cell_type": "code",
   "execution_count": 93,
   "metadata": {
    "ExecuteTime": {
     "end_time": "2021-08-21T08:43:39.758295Z",
     "start_time": "2021-08-21T08:43:39.696295Z"
    }
   },
   "outputs": [],
   "source": [
    "pca=PCA(n_components=2)\n",
    "x_trans=pca.fit_transform(train_x)"
   ]
  },
  {
   "cell_type": "code",
   "execution_count": 94,
   "metadata": {
    "ExecuteTime": {
     "end_time": "2021-08-21T08:43:40.166291Z",
     "start_time": "2021-08-21T08:43:40.061308Z"
    }
   },
   "outputs": [],
   "source": [
    "kmeans_pca=KMeans(n_clusters=2,random_state=42).fit(x_trans)\n"
   ]
  },
  {
   "cell_type": "code",
   "execution_count": 95,
   "metadata": {
    "ExecuteTime": {
     "end_time": "2021-08-21T08:43:48.430374Z",
     "start_time": "2021-08-21T08:43:40.464295Z"
    }
   },
   "outputs": [
    {
     "data": {
      "text/plain": [
       "0.4653966735940366"
      ]
     },
     "execution_count": 95,
     "metadata": {},
     "output_type": "execute_result"
    }
   ],
   "source": [
    "silhouette_score(x_trans,kmeans_pca.labels_)"
   ]
  },
  {
   "cell_type": "code",
   "execution_count": 96,
   "metadata": {
    "ExecuteTime": {
     "end_time": "2021-08-21T08:43:48.700370Z",
     "start_time": "2021-08-21T08:43:48.687390Z"
    }
   },
   "outputs": [
    {
     "data": {
      "text/plain": [
       "array([0, 0, 0, ..., 0, 0, 1])"
      ]
     },
     "execution_count": 96,
     "metadata": {},
     "output_type": "execute_result"
    }
   ],
   "source": [
    "c=kmeans_pca.predict(x_trans)\n",
    "c"
   ]
  },
  {
   "cell_type": "code",
   "execution_count": 97,
   "metadata": {
    "ExecuteTime": {
     "end_time": "2021-08-21T08:43:49.025370Z",
     "start_time": "2021-08-21T08:43:48.997380Z"
    }
   },
   "outputs": [
    {
     "data": {
      "text/plain": [
       "(0.006759435749311923, 0.004796577163523191, 0.005611304763676921)"
      ]
     },
     "execution_count": 97,
     "metadata": {},
     "output_type": "execute_result"
    }
   ],
   "source": [
    "homogeneity_completeness_v_measure(train_y,kmeans_pca.predict(x_trans))"
   ]
  },
  {
   "cell_type": "code",
   "execution_count": 98,
   "metadata": {
    "ExecuteTime": {
     "end_time": "2021-08-21T08:43:49.308372Z",
     "start_time": "2021-08-21T08:43:49.294373Z"
    }
   },
   "outputs": [
    {
     "data": {
      "text/plain": [
       "-0.01078502832114828"
      ]
     },
     "execution_count": 98,
     "metadata": {},
     "output_type": "execute_result"
    }
   ],
   "source": [
    "adjusted_rand_score(train_y,kmeans_pca.predict(x_trans))"
   ]
  },
  {
   "cell_type": "markdown",
   "metadata": {},
   "source": [
    "### scaling data after dimension reduction"
   ]
  },
  {
   "cell_type": "code",
   "execution_count": 99,
   "metadata": {
    "ExecuteTime": {
     "end_time": "2021-08-21T08:43:49.642481Z",
     "start_time": "2021-08-21T08:43:49.615394Z"
    }
   },
   "outputs": [],
   "source": [
    "sc_pca=scaler.fit_transform(x_trans)"
   ]
  },
  {
   "cell_type": "code",
   "execution_count": 100,
   "metadata": {
    "ExecuteTime": {
     "end_time": "2021-08-21T08:43:50.039371Z",
     "start_time": "2021-08-21T08:43:49.913375Z"
    }
   },
   "outputs": [],
   "source": [
    "kmeans_pca=KMeans(n_clusters=2,random_state=42).fit(sc_pca)\n"
   ]
  },
  {
   "cell_type": "code",
   "execution_count": 101,
   "metadata": {
    "ExecuteTime": {
     "end_time": "2021-08-21T08:43:58.106373Z",
     "start_time": "2021-08-21T08:43:50.342377Z"
    }
   },
   "outputs": [
    {
     "data": {
      "text/plain": [
       "0.38329785081161355"
      ]
     },
     "execution_count": 101,
     "metadata": {},
     "output_type": "execute_result"
    }
   ],
   "source": [
    "silhouette_score(sc_pca,kmeans_pca.labels_)"
   ]
  },
  {
   "cell_type": "markdown",
   "metadata": {},
   "source": [
    "### aggegate after dimension reduction"
   ]
  },
  {
   "cell_type": "code",
   "execution_count": 102,
   "metadata": {
    "ExecuteTime": {
     "end_time": "2021-08-21T08:44:33.141426Z",
     "start_time": "2021-08-21T08:43:58.378394Z"
    }
   },
   "outputs": [],
   "source": [
    "agg1=AgglomerativeClustering(n_clusters=2).fit(x_trans)"
   ]
  },
  {
   "cell_type": "code",
   "execution_count": 103,
   "metadata": {
    "ExecuteTime": {
     "end_time": "2021-08-21T08:44:42.106374Z",
     "start_time": "2021-08-21T08:44:33.580410Z"
    }
   },
   "outputs": [
    {
     "data": {
      "text/plain": [
       "0.4421447672366202"
      ]
     },
     "execution_count": 103,
     "metadata": {},
     "output_type": "execute_result"
    }
   ],
   "source": [
    "silhouette_score(x_trans,agg1.labels_)"
   ]
  },
  {
   "cell_type": "markdown",
   "metadata": {},
   "source": [
    "### Visualize the klustered data"
   ]
  },
  {
   "cell_type": "code",
   "execution_count": 104,
   "metadata": {
    "ExecuteTime": {
     "end_time": "2021-08-21T08:44:42.928375Z",
     "start_time": "2021-08-21T08:44:42.389377Z"
    }
   },
   "outputs": [
    {
     "data": {
      "text/plain": [
       "<matplotlib.collections.PathCollection at 0x206805bfe20>"
      ]
     },
     "execution_count": 104,
     "metadata": {},
     "output_type": "execute_result"
    },
    {
     "data": {
      "image/png": "[encoded data removed]",
      "text/plain": [
       "<Figure size 432x288 with 1 Axes>"
      ]
     },
     "metadata": {
      "needs_background": "light"
     },
     "output_type": "display_data"
    }
   ],
   "source": [
    "plt.scatter(x_trans[:,0],x_trans[:,1],c=c)\n",
    "\n",
    "plt.scatter(kmeans_pca.cluster_centers_[0],kmeans_pca.cluster_centers_[1],marker=\"8\",s=200)"
   ]
  },
  {
   "cell_type": "markdown",
   "metadata": {},
   "source": [
    "# Application of kmeans on test data"
   ]
  },
  {
   "cell_type": "code",
   "execution_count": 107,
   "metadata": {
    "ExecuteTime": {
     "end_time": "2021-08-21T08:44:43.867371Z",
     "start_time": "2021-08-21T08:44:43.808390Z"
    }
   },
   "outputs": [],
   "source": [
    "pca=PCA(n_components=2)\n",
    "x_trans=pca.fit_transform(train_x)"
   ]
  },
  {
   "cell_type": "code",
   "execution_count": 108,
   "metadata": {
    "ExecuteTime": {
     "end_time": "2021-08-21T08:44:44.152419Z",
     "start_time": "2021-08-21T08:44:44.141391Z"
    }
   },
   "outputs": [],
   "source": [
    "pipe=Pipeline([\n",
    "    ('pca',PCA(n_components=2)),\n",
    "    ('kmeans',KMeans(n_clusters=2,random_state=42))\n",
    "])"
   ]
  },
  {
   "cell_type": "code",
   "execution_count": 109,
   "metadata": {
    "ExecuteTime": {
     "end_time": "2021-08-21T08:44:44.564371Z",
     "start_time": "2021-08-21T08:44:44.428389Z"
    }
   },
   "outputs": [
    {
     "data": {
      "text/plain": [
       "Pipeline(steps=[('pca', PCA(n_components=2)),\n",
       "                ('kmeans', KMeans(n_clusters=2, random_state=42))])"
      ]
     },
     "execution_count": 109,
     "metadata": {},
     "output_type": "execute_result"
    }
   ],
   "source": [
    "pipe.fit(train_x)"
   ]
  },
  {
   "cell_type": "code",
   "execution_count": 117,
   "metadata": {
    "ExecuteTime": {
     "end_time": "2021-08-21T08:49:18.177090Z",
     "start_time": "2021-08-21T08:49:18.171092Z"
    }
   },
   "outputs": [],
   "source": [
    "test_data=test_data.drop(columns=['nom_5','nom_6','nom_7','nom_8','nom_9','ord_5'],axis=1)"
   ]
  },
  {
   "cell_type": "code",
   "execution_count": 118,
   "metadata": {
    "ExecuteTime": {
     "end_time": "2021-08-21T08:49:19.352051Z",
     "start_time": "2021-08-21T08:49:19.328057Z"
    }
   },
   "outputs": [],
   "source": [
    "predict_=pipe.predict(test_data)"
   ]
  },
  {
   "cell_type": "code",
   "execution_count": 119,
   "metadata": {
    "ExecuteTime": {
     "end_time": "2021-08-21T08:49:20.808286Z",
     "start_time": "2021-08-21T08:49:20.788287Z"
    }
   },
   "outputs": [
    {
     "data": {
      "text/plain": [
       "array([0, 0, 0, ..., 1, 0, 1])"
      ]
     },
     "execution_count": 119,
     "metadata": {},
     "output_type": "execute_result"
    }
   ],
   "source": [
    "predict_"
   ]
  },
  {
   "cell_type": "code",
   "execution_count": 120,
   "metadata": {
    "ExecuteTime": {
     "end_time": "2021-08-21T08:49:36.172924Z",
     "start_time": "2021-08-21T08:49:22.884940Z"
    }
   },
   "outputs": [
    {
     "data": {
      "text/plain": [
       "0.31572580943216255"
      ]
     },
     "execution_count": 120,
     "metadata": {},
     "output_type": "execute_result"
    }
   ],
   "source": [
    "silhouette_score(test_data,predict_)"
   ]
  },
  {
   "cell_type": "markdown",
   "metadata": {},
   "source": [
    "# Conclusion\n",
    "After using several unsupervised technique on test data we have found silhouette_score is the best algorithm for classification of two clusters. Because it gave us highest accuracy score on test data."
   ]
  },
  {
   "cell_type": "code",
   "execution_count": null,
   "metadata": {},
   "outputs": [],
   "source": []
  }
 ],
 "metadata": {
  "kernelspec": {
   "display_name": "Python 3",
   "language": "python",
   "name": "python3"
  },
  "language_info": {
   "codemirror_mode": {
    "name": "ipython",
    "version": 3
   },
   "file_extension": ".py",
   "mimetype": "text/x-python",
   "name": "python",
   "nbconvert_exporter": "python",
   "pygments_lexer": "ipython3",
   "version": "3.8.8"
  },
  "toc": {
   "base_numbering": 1,
   "nav_menu": {},
   "number_sections": true,
   "sideBar": true,
   "skip_h1_title": false,
   "title_cell": "Table of Contents",
   "title_sidebar": "Contents",
   "toc_cell": false,
   "toc_position": {},
   "toc_section_display": true,
   "toc_window_display": true
  },
  "varInspector": {
   "cols": {
    "lenName": 16,
    "lenType": 16,
    "lenVar": 40
   },
   "kernels_config": {
    "python": {
     "delete_cmd_postfix": "",
     "delete_cmd_prefix": "del ",
     "library": "var_list.py",
     "varRefreshCmd": "print(var_dic_list())"
    },
    "r": {
     "delete_cmd_postfix": ") ",
     "delete_cmd_prefix": "rm(",
     "library": "var_list.r",
     "varRefreshCmd": "cat(var_dic_list()) "
    }
   },
   "types_to_exclude": [
    "module",
    "function",
    "builtin_function_or_method",
    "instance",
    "_Feature"
   ],
   "window_display": false
  }
 },
 "nbformat": 4,
 "nbformat_minor": 4
}
