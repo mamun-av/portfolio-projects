{
 "cells": [
  {
   "cell_type": "markdown",
   "metadata": {},
   "source": [
    "# Categorical feature encoding challenge II\n",
    "\n",
    "## Data description\n",
    "In this competition, we will be predicting the probability [0, 1] of a binary target column.\n",
    "\n",
    "The data contains binary features (bin_), nominal features (nom_), ordinal features (ord_*) as well as (potentially cyclical) day (of the week) and month features. The string ordinal features ord_{3-5} are lexically ordered according to string.ascii_letters.[Dataset](https://www.kaggle.com/c/cat-in-the-dat-ii)\n",
    "\n",
    "Since the purpose of this competition is to explore various encoding strategies. Unlike the first Categorical Feature Encoding Challenge, the data for this challenge has missing values and feature interactions.\n",
    "\n",
    "Files\n",
    "train.csv - the training set\n",
    "test.csv - the test set; you must make predictions against this data\n",
    "sample_submission.csv - a sample submission file in the correct format"
   ]
  },
  {
   "cell_type": "markdown",
   "metadata": {},
   "source": [
    "## Loading essential libraries for data analysis, visualization, modeling, tuning"
   ]
  },
  {
   "cell_type": "code",
   "execution_count": 1,
   "metadata": {},
   "outputs": [],
   "source": [
    "import pandas as pd\n",
    "import numpy as np\n",
    "import matplotlib.pyplot as plt\n",
    "import seaborn as sns"
   ]
  },
  {
   "cell_type": "code",
   "execution_count": 2,
   "metadata": {},
   "outputs": [],
   "source": [
    "from sklearn import preprocessing\n",
    "from pandas_profiling import ProfileReport\n",
    "from sklearn.preprocessing import OneHotEncoder,LabelEncoder\n",
    "from sklearn.preprocessing import OrdinalEncoder"
   ]
  },
  {
   "cell_type": "code",
   "execution_count": 3,
   "metadata": {},
   "outputs": [],
   "source": [
    "from scipy import stats\n",
    "from sklearn.model_selection import train_test_split\n",
    "from sklearn.linear_model import LogisticRegression\n",
    "from sklearn.ensemble import RandomForestClassifier\n",
    "from sklearn.tree import DecisionTreeClassifier\n",
    "from sklearn.svm import SVC\n",
    "from statsmodels.api import OLS\n",
    "import statsmodels.api as sm\n",
    "from sklearn.model_selection import GridSearchCV\n",
    "from sklearn import feature_selection\n",
    "from sklearn import model_selection\n",
    "from sklearn.model_selection import cross_val_score\n",
    "from imblearn.under_sampling import CondensedNearestNeighbour\n",
    "from imblearn.ensemble import BalancedRandomForestClassifier,BalancedBaggingClassifier\n",
    "from sklearn.datasets import make_classification\n",
    "from imblearn.over_sampling import SMOTE\n",
    "from sklearn.ensemble import AdaBoostClassifier\n",
    "from sklearn.pipeline import Pipeline"
   ]
  },
  {
   "cell_type": "code",
   "execution_count": 4,
   "metadata": {},
   "outputs": [],
   "source": [
    "from sklearn.feature_selection import VarianceThreshold\n",
    "from sklearn.decomposition import PCA\n",
    "from sklearn.manifold import LocallyLinearEmbedding as LLE\n",
    "from sklearn.model_selection import StratifiedShuffleSplit\n",
    "from sklearn.metrics import *"
   ]
  },
  {
   "cell_type": "markdown",
   "metadata": {},
   "source": [
    "## Data loading within a function and task we have done\n",
    "\n",
    "- Load the data inside a function \n",
    "- Took the sample from the whole dataset because original dataset was huge, to make our computation simple used sample data.\n",
    "- clean the data and convert category into numeric for machine readable format\n",
    "- Define input and target feature\n",
    "- Apply class imbalance method SMOTE to make balance the target data\n",
    "- Split the data into train and testing "
   ]
  },
  {
   "cell_type": "code",
   "execution_count": 5,
   "metadata": {},
   "outputs": [],
   "source": [
    "def load_data(input_=['../Integrify/cat-in-the-dat-ii/train.csv','../Integrify/cat-in-the-dat-ii/test.csv'],\n",
    "             sample_f=0.05):\n",
    "    train=pd.read_csv(input_[0])\n",
    "    #TRAIN_=pd.read_csv(input_[1])\n",
    "    if sample_f!=0:\n",
    "        train=train.sample(frac=sample_f)\n",
    "        \n",
    "    train.loc[:, train.columns != 'id'] = train.loc[:, train.columns != 'id']\\\n",
    "            .astype('category').apply(lambda x: x.cat.codes)\n",
    "    train.drop(['id'],axis=1,inplace=True)\n",
    "    \n",
    "    train_x=train.drop('target',axis=1)\n",
    "    train_y=train['target']\n",
    "    \n",
    "    #undersample = CondensedNearestNeighbour(n_neighbors=1)\n",
    "\n",
    "    #train_x,train_y = undersample.fit_resample(train_x,train_y)\n",
    "    \n",
    "    #clf = BalancedBaggingClassifier(random_state=42,n_estimators=10,bootstrap=False)\n",
    "    #clf.fit(train_x,train_y) \n",
    "    \n",
    "    train_x,train_y=SMOTE().fit_resample(train_x,train_y)\n",
    "    \n",
    "    x_train,x_test,y_train,y_test= train_test_split(train_x,train_y,test_size=0.2,random_state=42)\n",
    "    \n",
    "    return(x_train,x_test,y_train,y_test)"
   ]
  },
  {
   "cell_type": "markdown",
   "metadata": {},
   "source": [
    "## Creating empty dataframe to view important accuracy information from different model I used"
   ]
  },
  {
   "cell_type": "code",
   "execution_count": 6,
   "metadata": {},
   "outputs": [],
   "source": [
    "Result=pd.DataFrame({'Model Name':[],\n",
    "                    'AUC_Train Accuracy':[],\n",
    "                     'AUC_Test Accuracy':[],\n",
    "                    'Train Accuracy':[],\n",
    "                     'Test Accuracy':[],\n",
    "                     'F1 Score_Train':[],\n",
    "                     'F1 Score_Test':[]\n",
    "                    })\n"
   ]
  },
  {
   "cell_type": "code",
   "execution_count": 7,
   "metadata": {},
   "outputs": [],
   "source": [
    "x_train,x_test,y_train,y_test=load_data()"
   ]
  },
  {
   "cell_type": "markdown",
   "metadata": {},
   "source": [
    "# Model selection"
   ]
  },
  {
   "cell_type": "markdown",
   "metadata": {},
   "source": [
    "## Logistic Regression"
   ]
  },
  {
   "cell_type": "code",
   "execution_count": 8,
   "metadata": {},
   "outputs": [
    {
     "name": "stderr",
     "output_type": "stream",
     "text": [
      "C:\\Users\\BY\\anaconda3\\lib\\site-packages\\sklearn\\linear_model\\_sag.py:328: ConvergenceWarning: The max_iter was reached which means the coef_ did not converge\n",
      "  warnings.warn(\"The max_iter was reached which means \"\n"
     ]
    },
    {
     "data": {
      "text/plain": [
       "LogisticRegression(l1_ratio=0.1, penalty='elasticnet', solver='saga')"
      ]
     },
     "execution_count": 8,
     "metadata": {},
     "output_type": "execute_result"
    }
   ],
   "source": [
    "Log_reg=LogisticRegression(penalty='elasticnet',solver='saga',l1_ratio=0.10)\n",
    "\n",
    "Log_reg.fit(x_train,y_train)"
   ]
  },
  {
   "cell_type": "code",
   "execution_count": 9,
   "metadata": {},
   "outputs": [
    {
     "name": "stdout",
     "output_type": "stream",
     "text": [
      "train score: 0.6681501943932883\n",
      "test score: 0.6651319828115408\n"
     ]
    }
   ],
   "source": [
    "print('train score:',Log_reg.score(x_train,y_train))\n",
    "print('test score:',Log_reg.score(x_test,y_test))"
   ]
  },
  {
   "cell_type": "code",
   "execution_count": 10,
   "metadata": {},
   "outputs": [
    {
     "data": {
      "text/plain": [
       "1    19598\n",
       "0    19498\n",
       "Name: target, dtype: int64"
      ]
     },
     "execution_count": 10,
     "metadata": {},
     "output_type": "execute_result"
    }
   ],
   "source": [
    "y_train.value_counts()"
   ]
  },
  {
   "cell_type": "code",
   "execution_count": 11,
   "metadata": {},
   "outputs": [],
   "source": [
    "Log_reg_pred_y_train=Log_reg.predict(x_train)"
   ]
  },
  {
   "cell_type": "code",
   "execution_count": 12,
   "metadata": {},
   "outputs": [],
   "source": [
    "Log_reg_pred_y_test=Log_reg.predict(x_test)"
   ]
  },
  {
   "cell_type": "code",
   "execution_count": 13,
   "metadata": {},
   "outputs": [],
   "source": [
    "Result=Result.append({'Model Name':'Logistic Regression',\n",
    "                    'AUC_Train Accuracy':roc_auc_score(y_train,Log_reg_pred_y_train),\n",
    "                     'AUC_Test Accuracy':roc_auc_score(y_test,Log_reg_pred_y_test),\n",
    "                    'Train Accuracy':Log_reg.score(x_train,y_train),\n",
    "                     'Test Accuracy':Log_reg.score(x_test,y_test),\n",
    "                     'F1 Score_Train':f1_score(y_train,Log_reg_pred_y_train),\n",
    "                      'F1 Score_Test':f1_score(y_test,Log_reg_pred_y_test)\n",
    "                    },ignore_index=True)"
   ]
  },
  {
   "cell_type": "markdown",
   "metadata": {},
   "source": [
    "## AdaBoost classifier"
   ]
  },
  {
   "cell_type": "code",
   "execution_count": 14,
   "metadata": {},
   "outputs": [
    {
     "name": "stdout",
     "output_type": "stream",
     "text": [
      "0.8191630857376714\n",
      "0.8125639451606302\n"
     ]
    }
   ],
   "source": [
    "adb = AdaBoostClassifier(n_estimators=550, random_state=42)\n",
    "adb.fit(x_train,y_train)\n",
    "print(adb.score(x_train,y_train))\n",
    "print(adb.score(x_test,y_test))"
   ]
  },
  {
   "cell_type": "code",
   "execution_count": 15,
   "metadata": {},
   "outputs": [],
   "source": [
    "adb_pred_train=adb.predict(x_train)\n",
    "adb_pred_test=adb.predict(x_test)"
   ]
  },
  {
   "cell_type": "code",
   "execution_count": 16,
   "metadata": {},
   "outputs": [],
   "source": [
    "Result=Result.append({'Model Name':'Ada Boost Classifier',\n",
    "                    'AUC_Train Accuracy':roc_auc_score(y_train,adb_pred_train),\n",
    "                     'AUC_Test Accuracy':roc_auc_score(y_test,adb_pred_test),\n",
    "                    'Train Accuracy':Log_reg.score(x_train,y_train),\n",
    "                     'Test Accuracy':Log_reg.score(x_test,y_test),\n",
    "                     'F1 Score_Train':f1_score(y_train,adb_pred_train),\n",
    "                      'F1 Score_Test':f1_score(y_test,adb_pred_test)\n",
    "                    },ignore_index=True)"
   ]
  },
  {
   "cell_type": "code",
   "execution_count": 17,
   "metadata": {},
   "outputs": [
    {
     "data": {
      "text/html": [
       "<div>\n",
       "<style scoped>\n",
       "    .dataframe tbody tr th:only-of-type {\n",
       "        vertical-align: middle;\n",
       "    }\n",
       "\n",
       "    .dataframe tbody tr th {\n",
       "        vertical-align: top;\n",
       "    }\n",
       "\n",
       "    .dataframe thead th {\n",
       "        text-align: right;\n",
       "    }\n",
       "</style>\n",
       "<table border=\"1\" class=\"dataframe\">\n",
       "  <thead>\n",
       "    <tr style=\"text-align: right;\">\n",
       "      <th></th>\n",
       "      <th>Model Name</th>\n",
       "      <th>AUC_Train Accuracy</th>\n",
       "      <th>AUC_Test Accuracy</th>\n",
       "      <th>Train Accuracy</th>\n",
       "      <th>Test Accuracy</th>\n",
       "      <th>F1 Score_Train</th>\n",
       "      <th>F1 Score_Test</th>\n",
       "    </tr>\n",
       "  </thead>\n",
       "  <tbody>\n",
       "    <tr>\n",
       "      <th>0</th>\n",
       "      <td>Logistic Regression</td>\n",
       "      <td>0.668067</td>\n",
       "      <td>0.665437</td>\n",
       "      <td>0.66815</td>\n",
       "      <td>0.665132</td>\n",
       "      <td>0.679131</td>\n",
       "      <td>0.672667</td>\n",
       "    </tr>\n",
       "    <tr>\n",
       "      <th>1</th>\n",
       "      <td>Ada Boost Classifier</td>\n",
       "      <td>0.819150</td>\n",
       "      <td>0.812609</td>\n",
       "      <td>0.66815</td>\n",
       "      <td>0.665132</td>\n",
       "      <td>0.820458</td>\n",
       "      <td>0.811832</td>\n",
       "    </tr>\n",
       "  </tbody>\n",
       "</table>\n",
       "</div>"
      ],
      "text/plain": [
       "             Model Name  AUC_Train Accuracy  AUC_Test Accuracy  \\\n",
       "0   Logistic Regression            0.668067           0.665437   \n",
       "1  Ada Boost Classifier            0.819150           0.812609   \n",
       "\n",
       "   Train Accuracy  Test Accuracy  F1 Score_Train  F1 Score_Test  \n",
       "0         0.66815       0.665132        0.679131       0.672667  \n",
       "1         0.66815       0.665132        0.820458       0.811832  "
      ]
     },
     "execution_count": 17,
     "metadata": {},
     "output_type": "execute_result"
    }
   ],
   "source": [
    "Result"
   ]
  },
  {
   "cell_type": "markdown",
   "metadata": {},
   "source": [
    "## Decision Tree"
   ]
  },
  {
   "cell_type": "code",
   "execution_count": 18,
   "metadata": {},
   "outputs": [
    {
     "data": {
      "text/plain": [
       "DecisionTreeClassifier(max_depth=5, max_leaf_nodes=9, min_samples_split=10)"
      ]
     },
     "execution_count": 18,
     "metadata": {},
     "output_type": "execute_result"
    }
   ],
   "source": [
    "DT=DecisionTreeClassifier(max_depth=5,max_leaf_nodes=9,min_samples_split=10)\n",
    "DT.fit(x_train,y_train)"
   ]
  },
  {
   "cell_type": "code",
   "execution_count": 19,
   "metadata": {},
   "outputs": [
    {
     "name": "stdout",
     "output_type": "stream",
     "text": [
      "0.7110190300798036\n",
      "0.7105586249232658\n"
     ]
    }
   ],
   "source": [
    "print(DT.score(x_train,y_train))\n",
    "print(DT.score(x_test,y_test))\n"
   ]
  },
  {
   "cell_type": "code",
   "execution_count": 20,
   "metadata": {},
   "outputs": [],
   "source": [
    "param={'max_depth':[2,3,4,5,6,7],\n",
    "      'max_leaf_nodes':[4,5,7,8,9]\n",
    "      }\n",
    "grid=GridSearchCV(DecisionTreeClassifier(random_state=40),\n",
    "                 param_grid=param, \n",
    "                 n_jobs=1,\n",
    "                cv=3)"
   ]
  },
  {
   "cell_type": "code",
   "execution_count": 21,
   "metadata": {},
   "outputs": [
    {
     "data": {
      "text/plain": [
       "GridSearchCV(cv=3, estimator=DecisionTreeClassifier(random_state=40), n_jobs=1,\n",
       "             param_grid={'max_depth': [2, 3, 4, 5, 6, 7],\n",
       "                         'max_leaf_nodes': [4, 5, 7, 8, 9]})"
      ]
     },
     "execution_count": 21,
     "metadata": {},
     "output_type": "execute_result"
    }
   ],
   "source": [
    "grid.fit(x_train,y_train)"
   ]
  },
  {
   "cell_type": "code",
   "execution_count": 22,
   "metadata": {},
   "outputs": [
    {
     "data": {
      "text/plain": [
       "{'max_depth': 7, 'max_leaf_nodes': 9}"
      ]
     },
     "execution_count": 22,
     "metadata": {},
     "output_type": "execute_result"
    }
   ],
   "source": [
    "grid.best_params_"
   ]
  },
  {
   "cell_type": "code",
   "execution_count": 23,
   "metadata": {},
   "outputs": [],
   "source": [
    "DT_pred_train=DT.predict(x_train)\n",
    "DT_pred_test=DT.predict(x_test)"
   ]
  },
  {
   "cell_type": "code",
   "execution_count": 24,
   "metadata": {},
   "outputs": [],
   "source": [
    "Result=Result.append({'Model Name':'Decision Tree',\n",
    "                    'AUC_Train Accuracy':roc_auc_score(y_train,DT_pred_train),\n",
    "                     'AUC_Test Accuracy':roc_auc_score(y_test,DT_pred_test),\n",
    "                    'Train Accuracy':DT.score(x_train,y_train),\n",
    "                     'Test Accuracy':DT.score(x_test,y_test),\n",
    "                     'F1 Score_Train':f1_score(y_train,DT_pred_train),\n",
    "                      'F1 Score_Test':f1_score(y_test,DT_pred_test)\n",
    "                    },ignore_index=True)"
   ]
  },
  {
   "cell_type": "markdown",
   "metadata": {},
   "source": [
    "## Random Forest"
   ]
  },
  {
   "cell_type": "code",
   "execution_count": 25,
   "metadata": {},
   "outputs": [
    {
     "data": {
      "text/plain": [
       "RandomForestClassifier(max_depth=7, max_leaf_nodes=10, n_jobs=-1,\n",
       "                       random_state=42)"
      ]
     },
     "execution_count": 25,
     "metadata": {},
     "output_type": "execute_result"
    }
   ],
   "source": [
    "rf=RandomForestClassifier(n_estimators=100,max_depth=7,max_leaf_nodes=10,random_state=42,n_jobs=-1)\n",
    "rf.fit(x_train,y_train)"
   ]
  },
  {
   "cell_type": "code",
   "execution_count": 26,
   "metadata": {},
   "outputs": [
    {
     "name": "stdout",
     "output_type": "stream",
     "text": [
      "0.76048700634336\n",
      "0.76048700634336\n"
     ]
    }
   ],
   "source": [
    "print(rf.score(x_train,y_train))\n",
    "print(rf.score(x_test,y_test))\n"
   ]
  },
  {
   "cell_type": "code",
   "execution_count": 27,
   "metadata": {},
   "outputs": [],
   "source": [
    "rf_pred_train=rf.predict(x_train)\n",
    "rf_pred_test=rf.predict(x_test)"
   ]
  },
  {
   "cell_type": "code",
   "execution_count": 28,
   "metadata": {},
   "outputs": [],
   "source": [
    "Result=Result.append({'Model Name':'Random Forest',\n",
    "                    'AUC_Train Accuracy':roc_auc_score(y_train,rf_pred_train),\n",
    "                     'AUC_Test Accuracy':roc_auc_score(y_test,rf_pred_test),\n",
    "                    'Train Accuracy':rf.score(x_train,y_train),\n",
    "                     'Test Accuracy':rf.score(x_test,y_test),\n",
    "                     'F1 Score_Train':f1_score(y_train,rf_pred_train),\n",
    "                      'F1 Score_Test':f1_score(y_test,rf_pred_test)\n",
    "                    },ignore_index=True)"
   ]
  },
  {
   "cell_type": "markdown",
   "metadata": {},
   "source": [
    "# Feature selection using variance Threshold"
   ]
  },
  {
   "cell_type": "code",
   "execution_count": 29,
   "metadata": {},
   "outputs": [],
   "source": [
    "pipe=Pipeline([\n",
    "                      ('feature_selection', VarianceThreshold(0.95)),\n",
    "                      ('classification',adb )\n",
    "                    ])\n"
   ]
  },
  {
   "cell_type": "code",
   "execution_count": 30,
   "metadata": {},
   "outputs": [
    {
     "data": {
      "text/plain": [
       "Pipeline(steps=[('feature_selection', VarianceThreshold(threshold=0.95)),\n",
       "                ('classification',\n",
       "                 AdaBoostClassifier(n_estimators=550, random_state=42))])"
      ]
     },
     "execution_count": 30,
     "metadata": {},
     "output_type": "execute_result"
    }
   ],
   "source": [
    "pipe.fit(x_train,y_train)"
   ]
  },
  {
   "cell_type": "code",
   "execution_count": 31,
   "metadata": {},
   "outputs": [],
   "source": [
    "y_pred=pipe.predict(x_test)"
   ]
  },
  {
   "cell_type": "code",
   "execution_count": 32,
   "metadata": {},
   "outputs": [
    {
     "data": {
      "text/plain": [
       "0.7915997931179083"
      ]
     },
     "execution_count": 32,
     "metadata": {},
     "output_type": "execute_result"
    }
   ],
   "source": [
    "roc_auc_score(y_test,y_pred)\n",
    "\n"
   ]
  },
  {
   "cell_type": "code",
   "execution_count": 33,
   "metadata": {},
   "outputs": [
    {
     "name": "stdout",
     "output_type": "stream",
     "text": [
      "              precision    recall  f1-score   support\n",
      "\n",
      "           0       0.80      0.78      0.79      4937\n",
      "           1       0.78      0.80      0.79      4837\n",
      "\n",
      "    accuracy                           0.79      9774\n",
      "   macro avg       0.79      0.79      0.79      9774\n",
      "weighted avg       0.79      0.79      0.79      9774\n",
      "\n"
     ]
    }
   ],
   "source": [
    "print(classification_report(y_test,y_pred))"
   ]
  },
  {
   "cell_type": "code",
   "execution_count": 34,
   "metadata": {},
   "outputs": [
    {
     "name": "stdout",
     "output_type": "stream",
     "text": [
      "0.7980100266011868\n",
      "0.791487620216902\n"
     ]
    }
   ],
   "source": [
    "print(pipe.score(x_train,y_train))\n",
    "print(pipe.score(x_test,y_test))"
   ]
  },
  {
   "cell_type": "markdown",
   "metadata": {},
   "source": [
    "## Create function to visualize the accuracy matrix"
   ]
  },
  {
   "cell_type": "code",
   "execution_count": 35,
   "metadata": {},
   "outputs": [],
   "source": [
    "def predict_and_plot(inputs, targets, name=''):\n",
    "    preds = pipe.predict(inputs)\n",
    "    \n",
    "    accuracy = accuracy_score(targets, preds)\n",
    "    print(\"Accuracy: {:.2f}%\".format(accuracy * 100))\n",
    "    \n",
    "    cf = confusion_matrix(targets, preds, normalize='true')\n",
    "    plt.figure()\n",
    "    sns.heatmap(cf, annot=True)\n",
    "    plt.xlabel('Prediction')\n",
    "    plt.ylabel('Target')\n",
    "    plt.title('{} Confusion Matrix'.format(name));\n",
    "    \n",
    "    return preds"
   ]
  },
  {
   "cell_type": "code",
   "execution_count": 36,
   "metadata": {},
   "outputs": [
    {
     "name": "stdout",
     "output_type": "stream",
     "text": [
      "Accuracy: 79.80%\n"
     ]
    },
    {
     "data": {
      "image/png": "[encoded data removed]",
      "text/plain": [
       "<Figure size 432x288 with 2 Axes>"
      ]
     },
     "metadata": {
      "needs_background": "light"
     },
     "output_type": "display_data"
    }
   ],
   "source": [
    "train_preds = predict_and_plot(x_train, y_train, 'Train data')"
   ]
  },
  {
   "cell_type": "code",
   "execution_count": 37,
   "metadata": {},
   "outputs": [
    {
     "name": "stdout",
     "output_type": "stream",
     "text": [
      "Accuracy: 79.15%\n"
     ]
    },
    {
     "data": {
      "image/png": "[encoded data removed]",
      "text/plain": [
       "<Figure size 432x288 with 2 Axes>"
      ]
     },
     "metadata": {
      "needs_background": "light"
     },
     "output_type": "display_data"
    }
   ],
   "source": [
    "test_preds = predict_and_plot(x_test, y_test, 'Test data')"
   ]
  },
  {
   "cell_type": "code",
   "execution_count": 38,
   "metadata": {},
   "outputs": [],
   "source": [
    "tr_pred=pipe.predict(x_train)\n",
    "tes_pred=pipe.predict(x_test)"
   ]
  },
  {
   "cell_type": "code",
   "execution_count": 39,
   "metadata": {},
   "outputs": [],
   "source": [
    "Result=Result.append({'Model Name':'Ada Boost after Variance Threshold',\n",
    "                    'AUC_Train Accuracy':roc_auc_score(y_train,tr_pred),\n",
    "                     'AUC_Test Accuracy':roc_auc_score(y_test,tes_pred),\n",
    "                    'Train Accuracy':pipe.score(x_train,y_train),\n",
    "                     'Test Accuracy':pipe.score(x_test,y_test),\n",
    "                     'F1 Score_Train':f1_score(y_train,tr_pred),\n",
    "                      'F1 Score_Test':f1_score(y_test,tes_pred)\n",
    "                    },ignore_index=True)"
   ]
  },
  {
   "cell_type": "markdown",
   "metadata": {},
   "source": [
    "# Feature selection using mutual_info classifier"
   ]
  },
  {
   "cell_type": "code",
   "execution_count": 40,
   "metadata": {},
   "outputs": [],
   "source": [
    "mi_clf=feature_selection.mutual_info_classif(x_train,y_train,discrete_features=True)"
   ]
  },
  {
   "cell_type": "code",
   "execution_count": 41,
   "metadata": {},
   "outputs": [],
   "source": [
    "pipe=Pipeline([\n",
    "                      ('feature_selection', feature_selection.SelectKBest(score_func=feature_selection.mutual_info_classif)),\n",
    "                      ('classification',adb )\n",
    "                    ])"
   ]
  },
  {
   "cell_type": "code",
   "execution_count": 42,
   "metadata": {},
   "outputs": [
    {
     "data": {
      "text/plain": [
       "Pipeline(steps=[('feature_selection',\n",
       "                 SelectKBest(score_func=<function mutual_info_classif at 0x000001AA8EF6CC10>)),\n",
       "                ('classification',\n",
       "                 AdaBoostClassifier(n_estimators=550, random_state=42))])"
      ]
     },
     "execution_count": 42,
     "metadata": {},
     "output_type": "execute_result"
    }
   ],
   "source": [
    "pipe.fit(x_train,y_train)"
   ]
  },
  {
   "cell_type": "code",
   "execution_count": 43,
   "metadata": {},
   "outputs": [
    {
     "name": "stdout",
     "output_type": "stream",
     "text": [
      "train score: 0.791231839574381\n"
     ]
    }
   ],
   "source": [
    "print('train score:',pipe.score(x_train,y_train))\n"
   ]
  },
  {
   "cell_type": "code",
   "execution_count": 44,
   "metadata": {},
   "outputs": [
    {
     "data": {
      "text/plain": [
       "0.7848373235113567"
      ]
     },
     "execution_count": 44,
     "metadata": {},
     "output_type": "execute_result"
    }
   ],
   "source": [
    "pipe.score(x_test,y_test)"
   ]
  },
  {
   "cell_type": "code",
   "execution_count": 45,
   "metadata": {},
   "outputs": [
    {
     "data": {
      "text/plain": [
       "array([[3854, 1083],\n",
       "       [ 955, 3882]], dtype=int64)"
      ]
     },
     "execution_count": 45,
     "metadata": {},
     "output_type": "execute_result"
    }
   ],
   "source": [
    "confusion_matrix(y_test,y_pred)"
   ]
  },
  {
   "cell_type": "code",
   "execution_count": 46,
   "metadata": {},
   "outputs": [
    {
     "data": {
      "text/plain": [
       "0.7848744710539065"
      ]
     },
     "execution_count": 46,
     "metadata": {},
     "output_type": "execute_result"
    }
   ],
   "source": [
    "roc_auc_score(y_test,pipe.predict(x_test))"
   ]
  },
  {
   "cell_type": "code",
   "execution_count": 47,
   "metadata": {},
   "outputs": [
    {
     "data": {
      "image/png": "[encoded data removed]",
      "text/plain": [
       "<Figure size 1000x800 with 1 Axes>"
      ]
     },
     "metadata": {
      "needs_background": "light"
     },
     "output_type": "display_data"
    }
   ],
   "source": [
    "false_positive_rate, true_positive_rate, thresolds = roc_curve(y_test, y_pred)\n",
    "\n",
    "plt.figure(figsize=(10, 8), dpi=100)\n",
    "plt.axis('scaled')\n",
    "plt.xlim([0, 1])\n",
    "plt.ylim([0, 1])\n",
    "plt.title(\"AUC & ROC Curve\")\n",
    "plt.plot(false_positive_rate, true_positive_rate, 'g')\n",
    "plt.fill_between(false_positive_rate, true_positive_rate, facecolor='lightgreen', alpha=0.7)\n",
    "#plt.text(0.95, 0.05, 'AUC = %0.4f' % auc, ha='right', fontsize=12, weight='bold', color='blue')\n",
    "plt.xlabel(\"False Positive Rate\")\n",
    "\n",
    "plt.ylabel(\"True Positive Rate\")\n",
    "plt.show()"
   ]
  },
  {
   "cell_type": "code",
   "execution_count": 48,
   "metadata": {},
   "outputs": [],
   "source": [
    "mi_train=pipe.predict(x_train)\n",
    "mi_test=pipe.predict(x_test)"
   ]
  },
  {
   "cell_type": "code",
   "execution_count": 49,
   "metadata": {},
   "outputs": [],
   "source": [
    "Result=Result.append({'Model Name':'Ada Boost after Mutual info classifier',\n",
    "                    'AUC_Train Accuracy':roc_auc_score(y_train,mi_train),\n",
    "                     'AUC_Test Accuracy':roc_auc_score(y_test,mi_test),\n",
    "                    'Train Accuracy':pipe.score(x_train,y_train),\n",
    "                     'Test Accuracy':pipe.score(x_test,y_test),\n",
    "                     'F1 Score_Train':f1_score(y_train,mi_train),\n",
    "                      'F1 Score_Test':f1_score(y_test,mi_test)\n",
    "                    },ignore_index=True)"
   ]
  },
  {
   "cell_type": "markdown",
   "metadata": {},
   "source": [
    "# PCA(principal component analysis)"
   ]
  },
  {
   "cell_type": "code",
   "execution_count": 50,
   "metadata": {},
   "outputs": [],
   "source": [
    "pipe1=Pipeline([\n",
    "                      ('feature_selection', PCA(n_components=0.95)),\n",
    "                      ('classification',adb )\n",
    "                    ])"
   ]
  },
  {
   "cell_type": "code",
   "execution_count": 51,
   "metadata": {},
   "outputs": [
    {
     "data": {
      "text/plain": [
       "Pipeline(steps=[('feature_selection', PCA(n_components=0.95)),\n",
       "                ('classification',\n",
       "                 AdaBoostClassifier(n_estimators=550, random_state=42))])"
      ]
     },
     "execution_count": 51,
     "metadata": {},
     "output_type": "execute_result"
    }
   ],
   "source": [
    "pipe1.fit(x_train,y_train)"
   ]
  },
  {
   "cell_type": "code",
   "execution_count": 52,
   "metadata": {},
   "outputs": [
    {
     "name": "stdout",
     "output_type": "stream",
     "text": [
      "0.5618733374258236\n",
      "0.5323306732146511\n"
     ]
    }
   ],
   "source": [
    "print(pipe1.score(x_train,y_train))\n",
    "print(pipe1.score(x_test,y_test))"
   ]
  },
  {
   "cell_type": "code",
   "execution_count": 53,
   "metadata": {},
   "outputs": [],
   "source": [
    "pca_train_predict=pipe1.predict(x_train)\n",
    "pca_test_predict=pipe1.predict(x_test)\n"
   ]
  },
  {
   "cell_type": "code",
   "execution_count": 54,
   "metadata": {},
   "outputs": [],
   "source": [
    "Result=Result.append({'Model Name':'PCA',\n",
    "                    'AUC_Train Accuracy':roc_auc_score(y_train,pca_train_predict),\n",
    "                     'AUC_Test Accuracy':roc_auc_score(y_test,pca_test_predict),\n",
    "                    'Train Accuracy':pipe1.score(x_train,y_train),\n",
    "                     'Test Accuracy':pipe1.score(x_test,y_test),\n",
    "                     'F1 Score_Train':f1_score(y_train,pca_train_predict),\n",
    "                      'F1 Score_Test':f1_score(y_test,pca_test_predict)\n",
    "                    },ignore_index=True)"
   ]
  },
  {
   "cell_type": "markdown",
   "metadata": {},
   "source": [
    "# Summary results"
   ]
  },
  {
   "cell_type": "code",
   "execution_count": 55,
   "metadata": {},
   "outputs": [
    {
     "data": {
      "text/html": [
       "<div>\n",
       "<style scoped>\n",
       "    .dataframe tbody tr th:only-of-type {\n",
       "        vertical-align: middle;\n",
       "    }\n",
       "\n",
       "    .dataframe tbody tr th {\n",
       "        vertical-align: top;\n",
       "    }\n",
       "\n",
       "    .dataframe thead th {\n",
       "        text-align: right;\n",
       "    }\n",
       "</style>\n",
       "<table border=\"1\" class=\"dataframe\">\n",
       "  <thead>\n",
       "    <tr style=\"text-align: right;\">\n",
       "      <th></th>\n",
       "      <th>Model Name</th>\n",
       "      <th>AUC_Train Accuracy</th>\n",
       "      <th>AUC_Test Accuracy</th>\n",
       "      <th>Train Accuracy</th>\n",
       "      <th>Test Accuracy</th>\n",
       "      <th>F1 Score_Train</th>\n",
       "      <th>F1 Score_Test</th>\n",
       "    </tr>\n",
       "  </thead>\n",
       "  <tbody>\n",
       "    <tr>\n",
       "      <th>0</th>\n",
       "      <td>Logistic Regression</td>\n",
       "      <td>0.668067</td>\n",
       "      <td>0.665437</td>\n",
       "      <td>0.668150</td>\n",
       "      <td>0.665132</td>\n",
       "      <td>0.679131</td>\n",
       "      <td>0.672667</td>\n",
       "    </tr>\n",
       "    <tr>\n",
       "      <th>1</th>\n",
       "      <td>Ada Boost Classifier</td>\n",
       "      <td>0.819150</td>\n",
       "      <td>0.812609</td>\n",
       "      <td>0.668150</td>\n",
       "      <td>0.665132</td>\n",
       "      <td>0.820458</td>\n",
       "      <td>0.811832</td>\n",
       "    </tr>\n",
       "    <tr>\n",
       "      <th>2</th>\n",
       "      <td>Decision Tree</td>\n",
       "      <td>0.710995</td>\n",
       "      <td>0.710680</td>\n",
       "      <td>0.711019</td>\n",
       "      <td>0.710559</td>\n",
       "      <td>0.714221</td>\n",
       "      <td>0.711885</td>\n",
       "    </tr>\n",
       "    <tr>\n",
       "      <th>3</th>\n",
       "      <td>Random Forest</td>\n",
       "      <td>0.760606</td>\n",
       "      <td>0.760034</td>\n",
       "      <td>0.760487</td>\n",
       "      <td>0.760487</td>\n",
       "      <td>0.749317</td>\n",
       "      <td>0.747329</td>\n",
       "    </tr>\n",
       "    <tr>\n",
       "      <th>4</th>\n",
       "      <td>Ada Boost after Variance Threshold</td>\n",
       "      <td>0.797997</td>\n",
       "      <td>0.791600</td>\n",
       "      <td>0.798010</td>\n",
       "      <td>0.791488</td>\n",
       "      <td>0.799431</td>\n",
       "      <td>0.792083</td>\n",
       "    </tr>\n",
       "    <tr>\n",
       "      <th>5</th>\n",
       "      <td>Ada Boost after Mutual info classifier</td>\n",
       "      <td>0.791231</td>\n",
       "      <td>0.784874</td>\n",
       "      <td>0.791232</td>\n",
       "      <td>0.784837</td>\n",
       "      <td>0.791733</td>\n",
       "      <td>0.783887</td>\n",
       "    </tr>\n",
       "    <tr>\n",
       "      <th>6</th>\n",
       "      <td>PCA</td>\n",
       "      <td>0.561745</td>\n",
       "      <td>0.532890</td>\n",
       "      <td>0.561873</td>\n",
       "      <td>0.532331</td>\n",
       "      <td>0.583408</td>\n",
       "      <td>0.554266</td>\n",
       "    </tr>\n",
       "  </tbody>\n",
       "</table>\n",
       "</div>"
      ],
      "text/plain": [
       "                               Model Name  AUC_Train Accuracy  \\\n",
       "0                     Logistic Regression            0.668067   \n",
       "1                    Ada Boost Classifier            0.819150   \n",
       "2                           Decision Tree            0.710995   \n",
       "3                           Random Forest            0.760606   \n",
       "4      Ada Boost after Variance Threshold            0.797997   \n",
       "5  Ada Boost after Mutual info classifier            0.791231   \n",
       "6                                     PCA            0.561745   \n",
       "\n",
       "   AUC_Test Accuracy  Train Accuracy  Test Accuracy  F1 Score_Train  \\\n",
       "0           0.665437        0.668150       0.665132        0.679131   \n",
       "1           0.812609        0.668150       0.665132        0.820458   \n",
       "2           0.710680        0.711019       0.710559        0.714221   \n",
       "3           0.760034        0.760487       0.760487        0.749317   \n",
       "4           0.791600        0.798010       0.791488        0.799431   \n",
       "5           0.784874        0.791232       0.784837        0.791733   \n",
       "6           0.532890        0.561873       0.532331        0.583408   \n",
       "\n",
       "   F1 Score_Test  \n",
       "0       0.672667  \n",
       "1       0.811832  \n",
       "2       0.711885  \n",
       "3       0.747329  \n",
       "4       0.792083  \n",
       "5       0.783887  \n",
       "6       0.554266  "
      ]
     },
     "execution_count": 55,
     "metadata": {},
     "output_type": "execute_result"
    }
   ],
   "source": [
    "Result"
   ]
  },
  {
   "cell_type": "markdown",
   "metadata": {},
   "source": [
    "From the result table it clearly shows that AdaBoost classifier gives the best Accuracy (F1 score,AUC). "
   ]
  },
  {
   "cell_type": "markdown",
   "metadata": {},
   "source": [
    "# Conclusion\n",
    "For this classification model, I preprocessed the data for machine feed and then train with different model to find out best model. After running few models with different hyperparameter tuning got best result from ada boost model where i shows before feature selection and after feature selection, before balancing data and after balance to compare the best."
   ]
  },
  {
   "cell_type": "code",
   "execution_count": null,
   "metadata": {},
   "outputs": [],
   "source": []
  }
 ],
 "metadata": {
  "kernelspec": {
   "display_name": "Python 3",
   "language": "python",
   "name": "python3"
  },
  "language_info": {
   "codemirror_mode": {
    "name": "ipython",
    "version": 3
   },
   "file_extension": ".py",
   "mimetype": "text/x-python",
   "name": "python",
   "nbconvert_exporter": "python",
   "pygments_lexer": "ipython3",
   "version": "3.8.8"
  },
  "toc": {
   "base_numbering": 1,
   "nav_menu": {},
   "number_sections": true,
   "sideBar": true,
   "skip_h1_title": false,
   "title_cell": "Table of Contents",
   "title_sidebar": "Contents",
   "toc_cell": false,
   "toc_position": {},
   "toc_section_display": true,
   "toc_window_display": true
  },
  "varInspector": {
   "cols": {
    "lenName": 16,
    "lenType": 16,
    "lenVar": 40
   },
   "kernels_config": {
    "python": {
     "delete_cmd_postfix": "",
     "delete_cmd_prefix": "del ",
     "library": "var_list.py",
     "varRefreshCmd": "print(var_dic_list())"
    },
    "r": {
     "delete_cmd_postfix": ") ",
     "delete_cmd_prefix": "rm(",
     "library": "var_list.r",
     "varRefreshCmd": "cat(var_dic_list()) "
    }
   },
   "types_to_exclude": [
    "module",
    "function",
    "builtin_function_or_method",
    "instance",
    "_Feature"
   ],
   "window_display": false
  }
 },
 "nbformat": 4,
 "nbformat_minor": 4
}
