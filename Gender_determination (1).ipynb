{
  "nbformat": 4,
  "nbformat_minor": 0,
  "metadata": {
    "colab": {
      "name": "Gender determination.ipynb",
      "provenance": [],
      "collapsed_sections": []
    },
    "kernelspec": {
      "display_name": "Python 3",
      "name": "python3"
    },
    "language_info": {
      "name": "python"
    }
  },
  "cells": [
    {
      "cell_type": "markdown",
      "metadata": {
        "id": "7J0xBTfntYvv"
      },
      "source": [
        "# Gender Determination by Morphometry of Eyes\n",
        "## Problem Statement\n",
        "The anthropometric analysis of the human face is an essential study for performing craniofacial plastic and reconstructive surgeries. Facial anthropometrics are affected by various factors such as age, gender, ethnicity, socioeconomic status, environment, and region.  \n",
        "\n",
        " \n",
        "\n",
        "Plastic surgeons who undertake the repair and reconstruction of facial deformities find the anatomical dimensions of the facial structures useful for their surgeries. These dimensions are a result of the Physical or Facial appearance of an individual. Along with factors like culture, personality, ethnic background, age; eye appearance and symmetry contributes majorly to the facial appearance or aesthetics. \n",
        "\n",
        " \n",
        "\n",
        "Our objective is to build a model to scan the image of an eye of a patient and find if the gender of the patient is male or female."
      ]
    },
    {
      "cell_type": "code",
      "metadata": {
        "id": "zveMLP6FtS4R"
      },
      "source": [
        "from google_drive_downloader import GoogleDriveDownloader as gdd\n",
        "\n",
        "gdd.download_file_from_google_drive(file_id='1f7uslI-ZHidriQFZR966_aILjlkgDN76',\n",
        "dest_path='content/eye_gender_data.zip',\n",
        "unzip=True)"
      ],
      "execution_count": null,
      "outputs": []
    },
    {
      "cell_type": "markdown",
      "metadata": {
        "id": "WmcjywVHzpKg"
      },
      "source": [
        "# Loading libraries"
      ]
    },
    {
      "cell_type": "code",
      "metadata": {
        "id": "60zSKOWGtZ_h"
      },
      "source": [
        "import pandas as pd # Data analysis and manipultion tool\n",
        "import numpy as np # Fundamental package for linear algebra and multidimensional arrays\n",
        "from PIL import Image as Im # For converting to numpy array\n",
        "#import tensorflow as tf # Deep Learning Tool\n",
        "import keras\n",
        "from keras import layers, Input\n",
        "import os # OS module in Python provides a way of using operating system dependent functionality\n",
        "import cv2 # Library for image processing\n",
        "from sklearn.model_selection import train_test_split # For splitting the data into train and validation set\n",
        "from sklearn.metrics import f1_score\n",
        "import matplotlib.pyplot as plt"
      ],
      "execution_count": null,
      "outputs": []
    },
    {
      "cell_type": "markdown",
      "metadata": {
        "id": "KMbwcqWfz699"
      },
      "source": [
        "# Loading and preparing training data"
      ]
    },
    {
      "cell_type": "code",
      "metadata": {
        "id": "zxrJ62rPztsh"
      },
      "source": [
        "labels = pd.read_csv(\"/content/content/eye_gender_data/Training_set.csv\") # loading the labels\n",
        "file_paths = [[fname, '/content/content/eye_gender_data/train/' + fname] for fname in labels['filename']]"
      ],
      "execution_count": null,
      "outputs": []
    },
    {
      "cell_type": "code",
      "metadata": {
        "colab": {
          "base_uri": "https://localhost:8080/",
          "height": 202
        },
        "id": "zKE4f2kB00oo",
        "outputId": "26701a03-387a-4e2a-f43d-a4322431b2d9"
      },
      "source": [
        "images = pd.DataFrame(file_paths, columns=['filename', 'filepaths'])\n",
        "images.head()"
      ],
      "execution_count": null,
      "outputs": [
        {
          "output_type": "execute_result",
          "data": {
            "text/html": [
              "<div>\n",
              "<style scoped>\n",
              "    .dataframe tbody tr th:only-of-type {\n",
              "        vertical-align: middle;\n",
              "    }\n",
              "\n",
              "    .dataframe tbody tr th {\n",
              "        vertical-align: top;\n",
              "    }\n",
              "\n",
              "    .dataframe thead th {\n",
              "        text-align: right;\n",
              "    }\n",
              "</style>\n",
              "<table border=\"1\" class=\"dataframe\">\n",
              "  <thead>\n",
              "    <tr style=\"text-align: right;\">\n",
              "      <th></th>\n",
              "      <th>filename</th>\n",
              "      <th>filepaths</th>\n",
              "    </tr>\n",
              "  </thead>\n",
              "  <tbody>\n",
              "    <tr>\n",
              "      <th>0</th>\n",
              "      <td>Image_1.jpg</td>\n",
              "      <td>/content/content/eye_gender_data/train/Image_1...</td>\n",
              "    </tr>\n",
              "    <tr>\n",
              "      <th>1</th>\n",
              "      <td>Image_2.jpg</td>\n",
              "      <td>/content/content/eye_gender_data/train/Image_2...</td>\n",
              "    </tr>\n",
              "    <tr>\n",
              "      <th>2</th>\n",
              "      <td>Image_3.jpg</td>\n",
              "      <td>/content/content/eye_gender_data/train/Image_3...</td>\n",
              "    </tr>\n",
              "    <tr>\n",
              "      <th>3</th>\n",
              "      <td>Image_4.jpg</td>\n",
              "      <td>/content/content/eye_gender_data/train/Image_4...</td>\n",
              "    </tr>\n",
              "    <tr>\n",
              "      <th>4</th>\n",
              "      <td>Image_5.jpg</td>\n",
              "      <td>/content/content/eye_gender_data/train/Image_5...</td>\n",
              "    </tr>\n",
              "  </tbody>\n",
              "</table>\n",
              "</div>"
            ],
            "text/plain": [
              "      filename                                          filepaths\n",
              "0  Image_1.jpg  /content/content/eye_gender_data/train/Image_1...\n",
              "1  Image_2.jpg  /content/content/eye_gender_data/train/Image_2...\n",
              "2  Image_3.jpg  /content/content/eye_gender_data/train/Image_3...\n",
              "3  Image_4.jpg  /content/content/eye_gender_data/train/Image_4...\n",
              "4  Image_5.jpg  /content/content/eye_gender_data/train/Image_5..."
            ]
          },
          "metadata": {
            "tags": []
          },
          "execution_count": 33
        }
      ]
    },
    {
      "cell_type": "code",
      "metadata": {
        "colab": {
          "base_uri": "https://localhost:8080/",
          "height": 202
        },
        "id": "3vHwcoHdFnpq",
        "outputId": "3d9fdc49-3937-4a6f-90d5-580722eafe85"
      },
      "source": [
        "train_data = pd.merge(images, labels, how = 'inner', on = 'filename')\n",
        "train_data.head()"
      ],
      "execution_count": null,
      "outputs": [
        {
          "output_type": "execute_result",
          "data": {
            "text/html": [
              "<div>\n",
              "<style scoped>\n",
              "    .dataframe tbody tr th:only-of-type {\n",
              "        vertical-align: middle;\n",
              "    }\n",
              "\n",
              "    .dataframe tbody tr th {\n",
              "        vertical-align: top;\n",
              "    }\n",
              "\n",
              "    .dataframe thead th {\n",
              "        text-align: right;\n",
              "    }\n",
              "</style>\n",
              "<table border=\"1\" class=\"dataframe\">\n",
              "  <thead>\n",
              "    <tr style=\"text-align: right;\">\n",
              "      <th></th>\n",
              "      <th>filename</th>\n",
              "      <th>filepaths</th>\n",
              "      <th>label</th>\n",
              "    </tr>\n",
              "  </thead>\n",
              "  <tbody>\n",
              "    <tr>\n",
              "      <th>0</th>\n",
              "      <td>Image_1.jpg</td>\n",
              "      <td>/content/content/eye_gender_data/train/Image_1...</td>\n",
              "      <td>male</td>\n",
              "    </tr>\n",
              "    <tr>\n",
              "      <th>1</th>\n",
              "      <td>Image_2.jpg</td>\n",
              "      <td>/content/content/eye_gender_data/train/Image_2...</td>\n",
              "      <td>female</td>\n",
              "    </tr>\n",
              "    <tr>\n",
              "      <th>2</th>\n",
              "      <td>Image_3.jpg</td>\n",
              "      <td>/content/content/eye_gender_data/train/Image_3...</td>\n",
              "      <td>female</td>\n",
              "    </tr>\n",
              "    <tr>\n",
              "      <th>3</th>\n",
              "      <td>Image_4.jpg</td>\n",
              "      <td>/content/content/eye_gender_data/train/Image_4...</td>\n",
              "      <td>female</td>\n",
              "    </tr>\n",
              "    <tr>\n",
              "      <th>4</th>\n",
              "      <td>Image_5.jpg</td>\n",
              "      <td>/content/content/eye_gender_data/train/Image_5...</td>\n",
              "      <td>male</td>\n",
              "    </tr>\n",
              "  </tbody>\n",
              "</table>\n",
              "</div>"
            ],
            "text/plain": [
              "      filename                                          filepaths   label\n",
              "0  Image_1.jpg  /content/content/eye_gender_data/train/Image_1...    male\n",
              "1  Image_2.jpg  /content/content/eye_gender_data/train/Image_2...  female\n",
              "2  Image_3.jpg  /content/content/eye_gender_data/train/Image_3...  female\n",
              "3  Image_4.jpg  /content/content/eye_gender_data/train/Image_4...  female\n",
              "4  Image_5.jpg  /content/content/eye_gender_data/train/Image_5...    male"
            ]
          },
          "metadata": {
            "tags": []
          },
          "execution_count": 34
        }
      ]
    },
    {
      "cell_type": "code",
      "metadata": {
        "colab": {
          "base_uri": "https://localhost:8080/",
          "height": 75
        },
        "id": "yfKYz4UrdyBf",
        "outputId": "2e1075a0-e455-4f5f-ff13-8e5b2435e5ad"
      },
      "source": [
        "Im.open(train_data.filepaths[1])"
      ],
      "execution_count": null,
      "outputs": [
        {
          "output_type": "execute_result",
          "data": {
            "image/png": "[encoded data removed]",
            "text/plain": [
              "<PIL.JpegImagePlugin.JpegImageFile image mode=RGB size=58x58 at 0x7FA557689E90>"
            ]
          },
          "metadata": {
            "tags": []
          },
          "execution_count": 35
        }
      ]
    },
    {
      "cell_type": "code",
      "metadata": {
        "colab": {
          "base_uri": "https://localhost:8080/",
          "height": 70
        },
        "id": "oAvfGZfFwbPd",
        "outputId": "f72c4241-18d6-49a4-88b1-d3435811b3e4"
      },
      "source": [
        "Im.open(train_data.filepaths[0])"
      ],
      "execution_count": null,
      "outputs": [
        {
          "output_type": "execute_result",
          "data": {
            "image/png": "[encoded data removed]",
            "text/plain": [
              "<PIL.JpegImagePlugin.JpegImageFile image mode=RGB size=53x53 at 0x7FA557224110>"
            ]
          },
          "metadata": {
            "tags": []
          },
          "execution_count": 36
        }
      ]
    },
    {
      "cell_type": "code",
      "metadata": {
        "colab": {
          "base_uri": "https://localhost:8080/"
        },
        "id": "XAvWNh7nSzPc",
        "outputId": "988a5883-a5cc-45c8-8656-709d1be6e595"
      },
      "source": [
        "data = [] # initialize an empty numpy array\n",
        "image_size = 100 # image size taken is 100 here. one can take other size too\n",
        "for i in range(len(train_data)):\n",
        "\n",
        "  img_array = cv2.imread(train_data['filepaths'][i], cv2.IMREAD_GRAYSCALE) # converting the image to gray scale\n",
        "\n",
        "  new_img_array = cv2.resize(img_array, (image_size, image_size)) # resizing the image array\n",
        "  data.append([new_img_array, train_data['label'][i]])\n",
        "print(data[:2])"
      ],
      "execution_count": null,
      "outputs": [
        {
          "output_type": "stream",
          "text": [
            "[[array([[188, 188, 189, ..., 176, 175, 175],\n",
            "       [189, 189, 188, ..., 174, 173, 172],\n",
            "       [190, 189, 188, ..., 168, 167, 167],\n",
            "       ...,\n",
            "       [133, 137, 144, ..., 168, 167, 166],\n",
            "       [134, 138, 145, ..., 165, 164, 163],\n",
            "       [135, 139, 146, ..., 163, 162, 162]], dtype=uint8), 'male'], [array([[167, 169, 173, ..., 194, 195, 195],\n",
            "       [168, 170, 173, ..., 193, 194, 195],\n",
            "       [171, 171, 173, ..., 192, 193, 194],\n",
            "       ...,\n",
            "       [183, 185, 189, ..., 199, 197, 196],\n",
            "       [183, 186, 189, ..., 199, 197, 195],\n",
            "       [184, 186, 190, ..., 199, 196, 195]], dtype=uint8), 'female']]\n"
          ],
          "name": "stdout"
        }
      ]
    },
    {
      "cell_type": "code",
      "metadata": {
        "colab": {
          "base_uri": "https://localhost:8080/"
        },
        "id": "hNmHduVcFntO",
        "outputId": "5ad05c22-bafb-4811-8eaf-cc1d76ec4f86"
      },
      "source": [
        "image_copy = np.copy(data)\n",
        "size_x, size_y = image_copy.shape"
      ],
      "execution_count": null,
      "outputs": [
        {
          "output_type": "stream",
          "text": [
            "/usr/local/lib/python3.7/dist-packages/numpy/lib/function_base.py:792: VisibleDeprecationWarning: Creating an ndarray from ragged nested sequences (which is a list-or-tuple of lists-or-tuples-or ndarrays with different lengths or shapes) is deprecated. If you meant to do this, you must specify 'dtype=object' when creating the ndarray\n",
            "  return array(a, order=order, subok=subok, copy=True)\n"
          ],
          "name": "stderr"
        }
      ]
    },
    {
      "cell_type": "code",
      "metadata": {
        "colab": {
          "base_uri": "https://localhost:8080/"
        },
        "id": "2Y4X1Dj2VLDB",
        "outputId": "b31a31a0-4781-47a9-fc64-934f3c09d1b9"
      },
      "source": [
        "size_x, size_y\n"
      ],
      "execution_count": null,
      "outputs": [
        {
          "output_type": "execute_result",
          "data": {
            "text/plain": [
              "(9220, 2)"
            ]
          },
          "metadata": {
            "tags": []
          },
          "execution_count": 39
        }
      ]
    },
    {
      "cell_type": "markdown",
      "metadata": {
        "id": "xt9fqVMU0-iv"
      },
      "source": [
        "# Data Pre-processing\n",
        "It is necessary to bring all the images in the same shape and size, also convert them to their pixel values because all machine learning or deep learning models accepts only the numerical data. Also we need to convert all the labels from categorical to numerical values."
      ]
    },
    {
      "cell_type": "code",
      "metadata": {
        "id": "PSTW1qCS1K2O"
      },
      "source": [
        "def import_data(labels_ = \"/content/content/eye_gender_data/Training_set.csv\",\n",
        "                files_ = '/content/content/eye_gender_data/train/',\n",
        "                train_data_ =True):\n",
        "  labels = pd.read_csv(labels_) # loading the labels\n",
        "  file_paths = [[fname, files_ + fname] for fname in labels['filename']]\n",
        "  train_data = pd.merge(images, labels, how = 'inner', on = 'filename')\n",
        "  data = [] # initialize an empty numpy array\n",
        "  image_size = 100 # image size taken is 100 here. one can take other size too\n",
        "  for i in range(len(train_data)):\n",
        "\n",
        "    img_array = cv2.imread(train_data['filepaths'][i], cv2.IMREAD_GRAYSCALE) # converting the image to gray scale\n",
        "\n",
        "    new_img_array = cv2.resize(img_array, (image_size, image_size)) # resizing the image array\n",
        "    if train_data_ == True:\n",
        "      data.append([new_img_array, train_data['label'][i]])\n",
        "    else:\n",
        "      data.append([new_img_array])\n",
        "    X = np.squeeze(data)\n",
        "  return X\n",
        "\n",
        "\n",
        "def preprocess_img(X, train_data_ = True, proportion=0.2, random_state=None):\n",
        "  n = len(X)\n",
        "  for i in range(len(X)):\n",
        "   X[i][0] = X[i][0]/255.\n",
        "  \n",
        "  if train_data_ == True :\n",
        "    x_train = np.array([X[i][0] for i in range(len(X))]).reshape((n,100,100,1))\n",
        "    y_train = [X[i][1] for i in range(len(X))]\n",
        "    y_train_coded = np.array([1 if i=='male' else 0 for i in y_train])\n",
        "    y_train_coded.reshape(n,1)\n",
        "    return train_test_split(x_train, y_train_coded,\n",
        "                            test_size=proportion,\n",
        "                            random_state=random_state)\n",
        "  else:\n",
        "    x_test = np.array([X[i] for i in range(len(X))]).reshape((n,100,100,1))\n",
        "    return x_test\n"
      ],
      "execution_count": null,
      "outputs": []
    },
    {
      "cell_type": "code",
      "metadata": {
        "colab": {
          "base_uri": "https://localhost:8080/"
        },
        "id": "muA_CHlYl_yJ",
        "outputId": "ee8455a5-578e-4a51-c2e3-8b878d9b2599"
      },
      "source": [
        "X = import_data()\n",
        "x_train,  x_validate, y_train, y_validate = preprocess_img(X)"
      ],
      "execution_count": null,
      "outputs": [
        {
          "output_type": "stream",
          "text": [
            "/usr/local/lib/python3.7/dist-packages/numpy/core/_asarray.py:83: VisibleDeprecationWarning: Creating an ndarray from ragged nested sequences (which is a list-or-tuple of lists-or-tuples-or ndarrays with different lengths or shapes) is deprecated. If you meant to do this, you must specify 'dtype=object' when creating the ndarray\n",
            "  return array(a, dtype, copy=False, order=order)\n"
          ],
          "name": "stderr"
        }
      ]
    },
    {
      "cell_type": "markdown",
      "metadata": {
        "id": "moUm_8G51LWf"
      },
      "source": [
        "# Building Model & Hyperparameter tuning\n",
        "Now we are finally ready, and we can train the model."
      ]
    },
    {
      "cell_type": "code",
      "metadata": {
        "id": "F9to2L7Q1Mjq",
        "colab": {
          "base_uri": "https://localhost:8080/"
        },
        "outputId": "b07fdb82-4c09-430b-cc39-3f10f28acd0b"
      },
      "source": [
        "# define input shape\n",
        "INPUT_SHAPE = (100, 100, 1)\n",
        "\n",
        "# define sequential model\n",
        "model = keras.models.Sequential()\n",
        "# define conv-pool layers - set 1\n",
        "model.add(layers.Conv2D(filters=10, kernel_size=(3, 3), strides=(1, 1),\n",
        "activation='relu', padding='valid', input_shape=INPUT_SHAPE))\n",
        "model.add(layers.MaxPooling2D(pool_size=(2, 2), strides=None, padding=\"valid\"))\n",
        "model.add(layers.Conv2D(filters=10, kernel_size=(2, 2), strides=(1, 1),\n",
        "activation='relu', padding='valid', input_shape=INPUT_SHAPE))\n",
        "model.add(layers.MaxPooling2D(pool_size=(2, 2), strides=None, padding=\"valid\"))\n",
        "\n",
        "\n",
        "# add flatten layer\n",
        "model.add(layers.Flatten())\n",
        "\n",
        "# add dense layers with some dropout\n",
        "model.add(layers.Dense(256, activation='relu'))\n",
        "model.add(layers.Dropout(rate=0.2))\n",
        "model.add(layers.Dense(256, activation='relu'))\n",
        "model.add(layers.Dropout(rate=0.3))\n",
        "\n",
        "\n",
        "# add output layer\n",
        "model.add(layers.Dense(1, activation='sigmoid'))\n",
        "\n",
        "# compile model\n",
        "model.compile(optimizer='adam',\n",
        "loss='BinaryCrossentropy',\n",
        "metrics=['accuracy','AUC'])\n",
        "\n",
        "# view model layers\n",
        "model.summary()"
      ],
      "execution_count": null,
      "outputs": [
        {
          "output_type": "stream",
          "text": [
            "Model: \"sequential_1\"\n",
            "_________________________________________________________________\n",
            "Layer (type)                 Output Shape              Param #   \n",
            "=================================================================\n",
            "conv2d_2 (Conv2D)            (None, 98, 98, 10)        100       \n",
            "_________________________________________________________________\n",
            "max_pooling2d (MaxPooling2D) (None, 49, 49, 10)        0         \n",
            "_________________________________________________________________\n",
            "conv2d_3 (Conv2D)            (None, 48, 48, 10)        410       \n",
            "_________________________________________________________________\n",
            "max_pooling2d_1 (MaxPooling2 (None, 24, 24, 10)        0         \n",
            "_________________________________________________________________\n",
            "flatten_1 (Flatten)          (None, 5760)              0         \n",
            "_________________________________________________________________\n",
            "dense_3 (Dense)              (None, 256)               1474816   \n",
            "_________________________________________________________________\n",
            "dropout_2 (Dropout)          (None, 256)               0         \n",
            "_________________________________________________________________\n",
            "dense_4 (Dense)              (None, 256)               65792     \n",
            "_________________________________________________________________\n",
            "dropout_3 (Dropout)          (None, 256)               0         \n",
            "_________________________________________________________________\n",
            "dense_5 (Dense)              (None, 1)                 257       \n",
            "=================================================================\n",
            "Total params: 1,541,375\n",
            "Trainable params: 1,541,375\n",
            "Non-trainable params: 0\n",
            "_________________________________________________________________\n"
          ],
          "name": "stdout"
        }
      ]
    },
    {
      "cell_type": "markdown",
      "metadata": {
        "id": "_5Htp-iX1UEO"
      },
      "source": [
        "# Validate the model"
      ]
    },
    {
      "cell_type": "code",
      "metadata": {
        "colab": {
          "base_uri": "https://localhost:8080/"
        },
        "id": "awbHjw6N1Xfr",
        "outputId": "8941c3be-933c-4943-9041-fee9fac4e667"
      },
      "source": [
        "model.fit(x_train, y_train, batch_size=32, epochs=15, verbose=1, \n",
        "        shuffle=True, validation_data = (x_validate,y_validate),\n",
        "        use_multiprocessing=True)"
      ],
      "execution_count": null,
      "outputs": [
        {
          "output_type": "stream",
          "text": [
            "Epoch 1/15\n",
            "231/231 [==============================] - 41s 159ms/step - loss: 0.6285 - accuracy: 0.6316 - auc: 0.6689 - val_loss: 0.4180 - val_accuracy: 0.8102 - val_auc: 0.8954\n",
            "Epoch 2/15\n",
            "231/231 [==============================] - 35s 149ms/step - loss: 0.4229 - accuracy: 0.8141 - auc: 0.8856 - val_loss: 0.3186 - val_accuracy: 0.8644 - val_auc: 0.9399\n",
            "Epoch 3/15\n",
            "231/231 [==============================] - 35s 151ms/step - loss: 0.3340 - accuracy: 0.8621 - auc: 0.9296 - val_loss: 0.2862 - val_accuracy: 0.8834 - val_auc: 0.9511\n",
            "Epoch 4/15\n",
            "231/231 [==============================] - 35s 150ms/step - loss: 0.2963 - accuracy: 0.8783 - auc: 0.9450 - val_loss: 0.2700 - val_accuracy: 0.8850 - val_auc: 0.9576\n",
            "Epoch 5/15\n",
            "231/231 [==============================] - 35s 151ms/step - loss: 0.2673 - accuracy: 0.8853 - auc: 0.9558 - val_loss: 0.2376 - val_accuracy: 0.9062 - val_auc: 0.9649\n",
            "Epoch 6/15\n",
            "231/231 [==============================] - 35s 151ms/step - loss: 0.2266 - accuracy: 0.9077 - auc: 0.9679 - val_loss: 0.2529 - val_accuracy: 0.8905 - val_auc: 0.9664\n",
            "Epoch 7/15\n",
            "231/231 [==============================] - 35s 152ms/step - loss: 0.2121 - accuracy: 0.9091 - auc: 0.9724 - val_loss: 0.2900 - val_accuracy: 0.8774 - val_auc: 0.9652\n",
            "Epoch 8/15\n",
            "231/231 [==============================] - 35s 153ms/step - loss: 0.1952 - accuracy: 0.9211 - auc: 0.9762 - val_loss: 0.2167 - val_accuracy: 0.9111 - val_auc: 0.9718\n",
            "Epoch 9/15\n",
            "231/231 [==============================] - 35s 154ms/step - loss: 0.1474 - accuracy: 0.9428 - auc: 0.9865 - val_loss: 0.2329 - val_accuracy: 0.9094 - val_auc: 0.9683\n",
            "Epoch 10/15\n",
            "231/231 [==============================] - 35s 152ms/step - loss: 0.1215 - accuracy: 0.9545 - auc: 0.9909 - val_loss: 0.2369 - val_accuracy: 0.9170 - val_auc: 0.9697\n",
            "Epoch 11/15\n",
            "231/231 [==============================] - 35s 152ms/step - loss: 0.1170 - accuracy: 0.9523 - auc: 0.9915 - val_loss: 0.2354 - val_accuracy: 0.9100 - val_auc: 0.9676\n",
            "Epoch 12/15\n",
            "231/231 [==============================] - 35s 152ms/step - loss: 0.1024 - accuracy: 0.9634 - auc: 0.9933 - val_loss: 0.2763 - val_accuracy: 0.8980 - val_auc: 0.9633\n",
            "Epoch 13/15\n",
            "231/231 [==============================] - 35s 150ms/step - loss: 0.0754 - accuracy: 0.9683 - auc: 0.9967 - val_loss: 0.2983 - val_accuracy: 0.9116 - val_auc: 0.9647\n",
            "Epoch 14/15\n",
            "231/231 [==============================] - 35s 151ms/step - loss: 0.0655 - accuracy: 0.9741 - auc: 0.9971 - val_loss: 0.3161 - val_accuracy: 0.8970 - val_auc: 0.9656\n",
            "Epoch 15/15\n",
            "231/231 [==============================] - 35s 152ms/step - loss: 0.0592 - accuracy: 0.9793 - auc: 0.9976 - val_loss: 0.3407 - val_accuracy: 0.9056 - val_auc: 0.9590\n"
          ],
          "name": "stdout"
        },
        {
          "output_type": "execute_result",
          "data": {
            "text/plain": [
              "<keras.callbacks.History at 0x7fa55b209cd0>"
            ]
          },
          "metadata": {
            "tags": []
          },
          "execution_count": 43
        }
      ]
    },
    {
      "cell_type": "markdown",
      "metadata": {
        "id": "CBdZ87eF1ZA3"
      },
      "source": [
        "# Predict The Output For Testing Dataset 😅\n",
        "We have trained our model, evaluated it and now finally we will predict the output/target for the testing data (i.e. Test.csv).\n",
        "\n",
        "Load Test Set\n",
        "Load the test data on which final submission is to be made.\n",
        "\n"
      ]
    },
    {
      "cell_type": "code",
      "metadata": {
        "id": "W5ImO3X21aZR"
      },
      "source": [
        "X_test = import_data(labels_=\"/content/content/eye_gender_data/Testing_set.csv\", \n",
        "                     files_='/content/content/eye_gender_data/test/', train_data_=False)"
      ],
      "execution_count": null,
      "outputs": []
    },
    {
      "cell_type": "code",
      "metadata": {
        "colab": {
          "base_uri": "https://localhost:8080/"
        },
        "id": "fzhlWiLT7sik",
        "outputId": "ea71b676-18d4-4cb5-f9b4-fe7ab08de03c"
      },
      "source": [
        "X_test"
      ],
      "execution_count": null,
      "outputs": [
        {
          "output_type": "execute_result",
          "data": {
            "text/plain": [
              "array([[  0,   0,   0, ...,   0,   0,   0],\n",
              "       [178, 180, 178, ...,  92, 108, 121],\n",
              "       [177, 177, 175, ...,  69,  85,  98],\n",
              "       ...,\n",
              "       [153, 156, 158, ..., 188, 189, 189],\n",
              "       [152, 154, 157, ..., 188, 189, 190],\n",
              "       [150, 153, 156, ..., 189, 190, 191]], dtype=uint8)"
            ]
          },
          "metadata": {
            "tags": []
          },
          "execution_count": 84
        }
      ]
    },
    {
      "cell_type": "markdown",
      "metadata": {
        "id": "jA3nWmOe1gFN"
      },
      "source": [
        "# Data Pre-processing on test_data\n"
      ]
    },
    {
      "cell_type": "code",
      "metadata": {
        "id": "1ac4WNBl1hJP"
      },
      "source": [
        "x_test = preprocess_img(X_test, train_data_=False)"
      ],
      "execution_count": null,
      "outputs": []
    },
    {
      "cell_type": "markdown",
      "metadata": {
        "id": "tF1d-o1I1m97"
      },
      "source": [
        "# Make Prediction on Test Dataset\n",
        "Time to make a submission!!!"
      ]
    },
    {
      "cell_type": "code",
      "metadata": {
        "id": "Xd_iyghFnJ-C",
        "colab": {
          "base_uri": "https://localhost:8080/"
        },
        "outputId": "7f2bcb0f-4e2c-4b9f-e050-e6a1c62748e8"
      },
      "source": [
        "prediction_code = model.predict(x_test)\n",
        "predictions = np.array(['male' if i==1 else 'female' for i in prediction_code])\n",
        "predictions[1:5]"
      ],
      "execution_count": null,
      "outputs": [
        {
          "output_type": "execute_result",
          "data": {
            "text/plain": [
              "array(['female', 'male', 'female', 'male'], dtype='<U6')"
            ]
          },
          "metadata": {
            "tags": []
          },
          "execution_count": 46
        }
      ]
    },
    {
      "cell_type": "markdown",
      "metadata": {
        "id": "bQfU8KB12ERk"
      },
      "source": [
        "# save prediction results locally via colab notebook\n",
        " A file named 'prediction_results' will be downloaded in my system."
      ]
    },
    {
      "cell_type": "code",
      "metadata": {
        "id": "BJ8lPqHo2ID9",
        "colab": {
          "base_uri": "https://localhost:8080/",
          "height": 17
        },
        "outputId": "711ea062-80cb-41a0-bd94-151b3ddfc25e"
      },
      "source": [
        "# To create Dataframe of predicted value with particular respective index\n",
        "res = pd.DataFrame(predictions) #preditcions are nothing but the final predictions of your model on input features of your new unseen test data\n",
        "res.columns = [\"label\"]\n",
        "\n",
        "# To download the csv file locally\n",
        "# from google.colab import files\n",
        "res.to_csv('prediction_results.csv', index = False)         \n",
        "files.download('prediction_results.csv')"
      ],
      "execution_count": null,
      "outputs": [
        {
          "output_type": "display_data",
          "data": {
            "application/javascript": [
              "\n",
              "    async function download(id, filename, size) {\n",
              "      if (!google.colab.kernel.accessAllowed) {\n",
              "        return;\n",
              "      }\n",
              "      const div = document.createElement('div');\n",
              "      const label = document.createElement('label');\n",
              "      label.textContent = `Downloading \"${filename}\": `;\n",
              "      div.appendChild(label);\n",
              "      const progress = document.createElement('progress');\n",
              "      progress.max = size;\n",
              "      div.appendChild(progress);\n",
              "      document.body.appendChild(div);\n",
              "\n",
              "      const buffers = [];\n",
              "      let downloaded = 0;\n",
              "\n",
              "      const channel = await google.colab.kernel.comms.open(id);\n",
              "      // Send a message to notify the kernel that we're ready.\n",
              "      channel.send({})\n",
              "\n",
              "      for await (const message of channel.messages) {\n",
              "        // Send a message to notify the kernel that we're ready.\n",
              "        channel.send({})\n",
              "        if (message.buffers) {\n",
              "          for (const buffer of message.buffers) {\n",
              "            buffers.push(buffer);\n",
              "            downloaded += buffer.byteLength;\n",
              "            progress.value = downloaded;\n",
              "          }\n",
              "        }\n",
              "      }\n",
              "      const blob = new Blob(buffers, {type: 'application/binary'});\n",
              "      const a = document.createElement('a');\n",
              "      a.href = window.URL.createObjectURL(blob);\n",
              "      a.download = filename;\n",
              "      div.appendChild(a);\n",
              "      a.click();\n",
              "      div.remove();\n",
              "    }\n",
              "  "
            ],
            "text/plain": [
              "<IPython.core.display.Javascript object>"
            ]
          },
          "metadata": {
            "tags": []
          }
        },
        {
          "output_type": "display_data",
          "data": {
            "application/javascript": [
              "download(\"download_9be5346d-a12a-4d06-9281-21f9f0b71e8d\", \"prediction_results.csv\", 13817)"
            ],
            "text/plain": [
              "<IPython.core.display.Javascript object>"
            ]
          },
          "metadata": {
            "tags": []
          }
        }
      ]
    },
    {
      "cell_type": "markdown",
      "metadata": {
        "id": "2NId-T43AU9a"
      },
      "source": [
        "# conclusion\n",
        "It was amazing journey with deep learning. I learnt lot about deep learning on image dataset to determine gender using eye detector. I have run few epochs for validation and found good result. "
      ]
    }
  ]
}